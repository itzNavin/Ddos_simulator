{
 "cells": [
  {
   "cell_type": "markdown",
   "id": "365d0b89-c53c-4e3b-8adb-9c9b75461018",
   "metadata": {},
   "source": [
    "## Data Visualization and Transformation"
   ]
  },
  {
   "cell_type": "code",
   "execution_count": 3,
   "id": "62cc8107-b0c0-4b90-b2c7-b53f7934a2c2",
   "metadata": {},
   "outputs": [],
   "source": [
    "import numpy as np\n",
    "import pandas as pd\n",
    "import matplotlib.pyplot as plt\n",
    "from sklearn.ensemble import RandomForestClassifier\n",
    "from sklearn.preprocessing import StandardScaler, LabelEncoder, OneHotEncoder\n",
    "from sklearn.model_selection import train_test_split\n",
    "import time"
   ]
  },
  {
   "cell_type": "code",
   "execution_count": 4,
   "id": "b9d37b6d-a82b-4bcb-99ca-db0a380082d5",
   "metadata": {},
   "outputs": [
    {
     "data": {
      "text/html": [
       "<div>\n",
       "<style scoped>\n",
       "    .dataframe tbody tr th:only-of-type {\n",
       "        vertical-align: middle;\n",
       "    }\n",
       "\n",
       "    .dataframe tbody tr th {\n",
       "        vertical-align: top;\n",
       "    }\n",
       "\n",
       "    .dataframe thead th {\n",
       "        text-align: right;\n",
       "    }\n",
       "</style>\n",
       "<table border=\"1\" class=\"dataframe\">\n",
       "  <thead>\n",
       "    <tr style=\"text-align: right;\">\n",
       "      <th></th>\n",
       "      <th>flow_duration</th>\n",
       "      <th>Header_Length</th>\n",
       "      <th>Protocol Type</th>\n",
       "      <th>Duration</th>\n",
       "      <th>Rate</th>\n",
       "      <th>Srate</th>\n",
       "      <th>Drate</th>\n",
       "      <th>fin_flag_number</th>\n",
       "      <th>syn_flag_number</th>\n",
       "      <th>rst_flag_number</th>\n",
       "      <th>...</th>\n",
       "      <th>Std</th>\n",
       "      <th>Tot size</th>\n",
       "      <th>IAT</th>\n",
       "      <th>Number</th>\n",
       "      <th>Magnitue</th>\n",
       "      <th>Radius</th>\n",
       "      <th>Covariance</th>\n",
       "      <th>Variance</th>\n",
       "      <th>Weight</th>\n",
       "      <th>label</th>\n",
       "    </tr>\n",
       "  </thead>\n",
       "  <tbody>\n",
       "    <tr>\n",
       "      <th>0</th>\n",
       "      <td>0.000000</td>\n",
       "      <td>54.00</td>\n",
       "      <td>6.00</td>\n",
       "      <td>64.00</td>\n",
       "      <td>0.329807</td>\n",
       "      <td>0.329807</td>\n",
       "      <td>0.0</td>\n",
       "      <td>1</td>\n",
       "      <td>0</td>\n",
       "      <td>1</td>\n",
       "      <td>...</td>\n",
       "      <td>0.000000</td>\n",
       "      <td>54.00</td>\n",
       "      <td>83343831.92</td>\n",
       "      <td>9.5</td>\n",
       "      <td>10.392305</td>\n",
       "      <td>0.000000</td>\n",
       "      <td>0.000000</td>\n",
       "      <td>0.00</td>\n",
       "      <td>141.55</td>\n",
       "      <td>DDoS-RSTFINFlood</td>\n",
       "    </tr>\n",
       "    <tr>\n",
       "      <th>1</th>\n",
       "      <td>0.000000</td>\n",
       "      <td>57.04</td>\n",
       "      <td>6.33</td>\n",
       "      <td>64.00</td>\n",
       "      <td>4.290556</td>\n",
       "      <td>4.290556</td>\n",
       "      <td>0.0</td>\n",
       "      <td>0</td>\n",
       "      <td>0</td>\n",
       "      <td>0</td>\n",
       "      <td>...</td>\n",
       "      <td>2.822973</td>\n",
       "      <td>57.04</td>\n",
       "      <td>82926067.47</td>\n",
       "      <td>9.5</td>\n",
       "      <td>10.464666</td>\n",
       "      <td>4.010353</td>\n",
       "      <td>160.987842</td>\n",
       "      <td>0.05</td>\n",
       "      <td>141.55</td>\n",
       "      <td>DoS-TCP_Flood</td>\n",
       "    </tr>\n",
       "    <tr>\n",
       "      <th>2</th>\n",
       "      <td>0.000000</td>\n",
       "      <td>0.00</td>\n",
       "      <td>1.00</td>\n",
       "      <td>64.00</td>\n",
       "      <td>33.396799</td>\n",
       "      <td>33.396799</td>\n",
       "      <td>0.0</td>\n",
       "      <td>0</td>\n",
       "      <td>0</td>\n",
       "      <td>0</td>\n",
       "      <td>...</td>\n",
       "      <td>0.000000</td>\n",
       "      <td>42.00</td>\n",
       "      <td>83127993.93</td>\n",
       "      <td>9.5</td>\n",
       "      <td>9.165151</td>\n",
       "      <td>0.000000</td>\n",
       "      <td>0.000000</td>\n",
       "      <td>0.00</td>\n",
       "      <td>141.55</td>\n",
       "      <td>DDoS-ICMP_Flood</td>\n",
       "    </tr>\n",
       "    <tr>\n",
       "      <th>3</th>\n",
       "      <td>0.328175</td>\n",
       "      <td>76175.00</td>\n",
       "      <td>17.00</td>\n",
       "      <td>64.00</td>\n",
       "      <td>4642.133010</td>\n",
       "      <td>4642.133010</td>\n",
       "      <td>0.0</td>\n",
       "      <td>0</td>\n",
       "      <td>0</td>\n",
       "      <td>0</td>\n",
       "      <td>...</td>\n",
       "      <td>0.000000</td>\n",
       "      <td>50.00</td>\n",
       "      <td>83015696.38</td>\n",
       "      <td>9.5</td>\n",
       "      <td>10.000000</td>\n",
       "      <td>0.000000</td>\n",
       "      <td>0.000000</td>\n",
       "      <td>0.00</td>\n",
       "      <td>141.55</td>\n",
       "      <td>DoS-UDP_Flood</td>\n",
       "    </tr>\n",
       "    <tr>\n",
       "      <th>4</th>\n",
       "      <td>0.117320</td>\n",
       "      <td>101.73</td>\n",
       "      <td>6.11</td>\n",
       "      <td>65.91</td>\n",
       "      <td>6.202211</td>\n",
       "      <td>6.202211</td>\n",
       "      <td>0.0</td>\n",
       "      <td>0</td>\n",
       "      <td>1</td>\n",
       "      <td>0</td>\n",
       "      <td>...</td>\n",
       "      <td>23.113111</td>\n",
       "      <td>57.88</td>\n",
       "      <td>82972999.18</td>\n",
       "      <td>9.5</td>\n",
       "      <td>11.346876</td>\n",
       "      <td>32.716243</td>\n",
       "      <td>3016.808286</td>\n",
       "      <td>0.19</td>\n",
       "      <td>141.55</td>\n",
       "      <td>DoS-SYN_Flood</td>\n",
       "    </tr>\n",
       "  </tbody>\n",
       "</table>\n",
       "<p>5 rows × 47 columns</p>\n",
       "</div>"
      ],
      "text/plain": [
       "   flow_duration  Header_Length  Protocol Type  Duration         Rate  \\\n",
       "0       0.000000          54.00           6.00     64.00     0.329807   \n",
       "1       0.000000          57.04           6.33     64.00     4.290556   \n",
       "2       0.000000           0.00           1.00     64.00    33.396799   \n",
       "3       0.328175       76175.00          17.00     64.00  4642.133010   \n",
       "4       0.117320         101.73           6.11     65.91     6.202211   \n",
       "\n",
       "         Srate  Drate  fin_flag_number  syn_flag_number  rst_flag_number  ...  \\\n",
       "0     0.329807    0.0                1                0                1  ...   \n",
       "1     4.290556    0.0                0                0                0  ...   \n",
       "2    33.396799    0.0                0                0                0  ...   \n",
       "3  4642.133010    0.0                0                0                0  ...   \n",
       "4     6.202211    0.0                0                1                0  ...   \n",
       "\n",
       "         Std  Tot size          IAT  Number   Magnitue     Radius  \\\n",
       "0   0.000000     54.00  83343831.92     9.5  10.392305   0.000000   \n",
       "1   2.822973     57.04  82926067.47     9.5  10.464666   4.010353   \n",
       "2   0.000000     42.00  83127993.93     9.5   9.165151   0.000000   \n",
       "3   0.000000     50.00  83015696.38     9.5  10.000000   0.000000   \n",
       "4  23.113111     57.88  82972999.18     9.5  11.346876  32.716243   \n",
       "\n",
       "    Covariance  Variance  Weight             label  \n",
       "0     0.000000      0.00  141.55  DDoS-RSTFINFlood  \n",
       "1   160.987842      0.05  141.55     DoS-TCP_Flood  \n",
       "2     0.000000      0.00  141.55   DDoS-ICMP_Flood  \n",
       "3     0.000000      0.00  141.55     DoS-UDP_Flood  \n",
       "4  3016.808286      0.19  141.55     DoS-SYN_Flood  \n",
       "\n",
       "[5 rows x 47 columns]"
      ]
     },
     "execution_count": 4,
     "metadata": {},
     "output_type": "execute_result"
    }
   ],
   "source": [
    "df=pd.read_csv('IoT_Intrusion.csv')\n",
    "df.head()"
   ]
  },
  {
   "cell_type": "code",
   "execution_count": 5,
   "id": "50a29984-91a7-4e49-bb31-c98eb3f1bc5d",
   "metadata": {},
   "outputs": [
    {
     "data": {
      "text/plain": [
       "Index(['flow_duration', 'Header_Length', 'Protocol Type', 'Duration', 'Rate',\n",
       "       'Srate', 'Drate', 'fin_flag_number', 'syn_flag_number',\n",
       "       'rst_flag_number', 'psh_flag_number', 'ack_flag_number',\n",
       "       'ece_flag_number', 'cwr_flag_number', 'ack_count', 'syn_count',\n",
       "       'fin_count', 'urg_count', 'rst_count', 'HTTP', 'HTTPS', 'DNS', 'Telnet',\n",
       "       'SMTP', 'SSH', 'IRC', 'TCP', 'UDP', 'DHCP', 'ARP', 'ICMP', 'IPv', 'LLC',\n",
       "       'Tot sum', 'Min', 'Max', 'AVG', 'Std', 'Tot size', 'IAT', 'Number',\n",
       "       'Magnitue', 'Radius', 'Covariance', 'Variance', 'Weight', 'label'],\n",
       "      dtype='object')"
      ]
     },
     "execution_count": 5,
     "metadata": {},
     "output_type": "execute_result"
    }
   ],
   "source": [
    "df.columns"
   ]
  },
  {
   "cell_type": "code",
   "execution_count": 6,
   "id": "c17a6623-a0d6-4ccb-a021-43fe699e6122",
   "metadata": {},
   "outputs": [
    {
     "data": {
      "text/plain": [
       "flow_duration                0.0\n",
       "Header_Length              57.04\n",
       "Protocol Type               6.33\n",
       "Duration                    64.0\n",
       "Rate                    4.290556\n",
       "Srate                   4.290556\n",
       "Drate                        0.0\n",
       "fin_flag_number                0\n",
       "syn_flag_number                0\n",
       "rst_flag_number                0\n",
       "psh_flag_number                0\n",
       "ack_flag_number                0\n",
       "ece_flag_number                0\n",
       "cwr_flag_number                0\n",
       "ack_count                    0.0\n",
       "syn_count                    0.0\n",
       "fin_count                    0.0\n",
       "urg_count                    0.0\n",
       "rst_count                    0.0\n",
       "HTTP                           1\n",
       "HTTPS                          0\n",
       "DNS                            0\n",
       "Telnet                         0\n",
       "SMTP                           0\n",
       "SSH                            0\n",
       "IRC                            0\n",
       "TCP                            1\n",
       "UDP                            0\n",
       "DHCP                           0\n",
       "ARP                            0\n",
       "ICMP                           0\n",
       "IPv                            1\n",
       "LLC                            1\n",
       "Tot sum                   581.33\n",
       "Min                         54.0\n",
       "Max                         66.3\n",
       "AVG                    54.796404\n",
       "Std                     2.822973\n",
       "Tot size                   57.04\n",
       "IAT                  82926067.47\n",
       "Number                       9.5\n",
       "Magnitue               10.464666\n",
       "Radius                  4.010353\n",
       "Covariance            160.987842\n",
       "Variance                    0.05\n",
       "Weight                    141.55\n",
       "label              DoS-TCP_Flood\n",
       "Name: 1, dtype: object"
      ]
     },
     "execution_count": 6,
     "metadata": {},
     "output_type": "execute_result"
    }
   ],
   "source": [
    "df.iloc[1,:]"
   ]
  },
  {
   "cell_type": "code",
   "execution_count": 7,
   "id": "3aa82aac-9846-4b02-8610-4df376129542",
   "metadata": {},
   "outputs": [
    {
     "data": {
      "text/plain": [
       "label\n",
       "DDoS-ICMP_Flood            161281\n",
       "DDoS-UDP_Flood             121205\n",
       "DDoS-TCP_Flood             101293\n",
       "DDoS-PSHACK_Flood           92395\n",
       "DDoS-SYN_Flood              91644\n",
       "DDoS-RSTFINFlood            90823\n",
       "DDoS-SynonymousIP_Flood     80680\n",
       "DoS-UDP_Flood               74787\n",
       "DoS-TCP_Flood               59807\n",
       "DoS-SYN_Flood               45207\n",
       "BenignTraffic               24476\n",
       "Mirai-greeth_flood          22115\n",
       "Mirai-udpplain              20166\n",
       "Mirai-greip_flood           16952\n",
       "DDoS-ICMP_Fragmentation     10223\n",
       "MITM-ArpSpoofing             7019\n",
       "DDoS-ACK_Fragmentation       6431\n",
       "DDoS-UDP_Fragmentation       6431\n",
       "DNS_Spoofing                 4034\n",
       "Recon-HostDiscovery          3007\n",
       "Recon-OSScan                 2225\n",
       "Recon-PortScan               1863\n",
       "DoS-HTTP_Flood               1680\n",
       "VulnerabilityScan             809\n",
       "DDoS-HTTP_Flood               626\n",
       "DDoS-SlowLoris                493\n",
       "DictionaryBruteForce          324\n",
       "BrowserHijacking              140\n",
       "SqlInjection                  122\n",
       "CommandInjection              105\n",
       "Backdoor_Malware               76\n",
       "XSS                            72\n",
       "Recon-PingSweep                41\n",
       "Uploading_Attack               23\n",
       "Name: count, dtype: int64"
      ]
     },
     "execution_count": 7,
     "metadata": {},
     "output_type": "execute_result"
    }
   ],
   "source": [
    "label_count=df['label'].value_counts()\n",
    "label_count"
   ]
  },
  {
   "cell_type": "code",
   "execution_count": 8,
   "id": "5ce20628-b241-4525-a036-f2a5c590e930",
   "metadata": {},
   "outputs": [
    {
     "data": {
      "text/plain": [
       "(1048575, 47)"
      ]
     },
     "execution_count": 8,
     "metadata": {},
     "output_type": "execute_result"
    }
   ],
   "source": [
    "df.shape"
   ]
  },
  {
   "cell_type": "code",
   "execution_count": 9,
   "id": "e1bdf02f-869f-4aa0-b981-efadc1f618c2",
   "metadata": {},
   "outputs": [],
   "source": [
    "label_list=label_count.index"
   ]
  },
  {
   "cell_type": "code",
   "execution_count": 10,
   "id": "2c8136a0-52d7-48b5-8497-8b777154eb6f",
   "metadata": {},
   "outputs": [
    {
     "data": {
      "text/plain": [
       "Index(['DDoS-ICMP_Flood', 'DDoS-UDP_Flood', 'DDoS-TCP_Flood',\n",
       "       'DDoS-PSHACK_Flood', 'DDoS-SYN_Flood', 'DDoS-RSTFINFlood',\n",
       "       'DDoS-SynonymousIP_Flood', 'DoS-UDP_Flood', 'DoS-TCP_Flood',\n",
       "       'DoS-SYN_Flood', 'BenignTraffic', 'Mirai-greeth_flood',\n",
       "       'Mirai-udpplain', 'Mirai-greip_flood', 'DDoS-ICMP_Fragmentation',\n",
       "       'MITM-ArpSpoofing', 'DDoS-ACK_Fragmentation', 'DDoS-UDP_Fragmentation',\n",
       "       'DNS_Spoofing', 'Recon-HostDiscovery', 'Recon-OSScan', 'Recon-PortScan',\n",
       "       'DoS-HTTP_Flood', 'VulnerabilityScan', 'DDoS-HTTP_Flood',\n",
       "       'DDoS-SlowLoris', 'DictionaryBruteForce', 'BrowserHijacking',\n",
       "       'SqlInjection', 'CommandInjection', 'Backdoor_Malware', 'XSS',\n",
       "       'Recon-PingSweep', 'Uploading_Attack'],\n",
       "      dtype='object', name='label')"
      ]
     },
     "execution_count": 10,
     "metadata": {},
     "output_type": "execute_result"
    }
   ],
   "source": [
    "label_list"
   ]
  },
  {
   "cell_type": "code",
   "execution_count": 11,
   "id": "b702f1bf-b841-4372-81ff-d1c36e9476bb",
   "metadata": {},
   "outputs": [
    {
     "data": {
      "text/plain": [
       "['DDoS-ICMP_Flood',\n",
       " 'DDoS-UDP_Flood',\n",
       " 'DDoS-TCP_Flood',\n",
       " 'DDoS-PSHACK_Flood',\n",
       " 'DDoS-SYN_Flood',\n",
       " 'DDoS-RSTFINFlood',\n",
       " 'DDoS-SynonymousIP_Flood',\n",
       " 'DoS-UDP_Flood',\n",
       " 'DoS-TCP_Flood',\n",
       " 'DoS-SYN_Flood',\n",
       " 'BenignTraffic',\n",
       " 'Mirai-greeth_flood',\n",
       " 'Mirai-udpplain',\n",
       " 'Mirai-greip_flood',\n",
       " 'DDoS-ICMP_Fragmentation']"
      ]
     },
     "execution_count": 11,
     "metadata": {},
     "output_type": "execute_result"
    }
   ],
   "source": [
    "final_label_list=[]\n",
    "for x in label_list:\n",
    "    if 'DoS' in x and label_count[x]>10000:\n",
    "        final_label_list.append(x)\n",
    "    elif 'Benign' in x:\n",
    "        final_label_list.append(x)\n",
    "    elif 'Mirai' in x:\n",
    "        final_label_list.append(x)\n",
    "\n",
    "final_label_list"
   ]
  },
  {
   "cell_type": "code",
   "execution_count": 12,
   "id": "32471820-06b6-45df-a511-d618ba9374dc",
   "metadata": {
    "scrolled": true
   },
   "outputs": [
    {
     "data": {
      "text/html": [
       "<div>\n",
       "<style scoped>\n",
       "    .dataframe tbody tr th:only-of-type {\n",
       "        vertical-align: middle;\n",
       "    }\n",
       "\n",
       "    .dataframe tbody tr th {\n",
       "        vertical-align: top;\n",
       "    }\n",
       "\n",
       "    .dataframe thead th {\n",
       "        text-align: right;\n",
       "    }\n",
       "</style>\n",
       "<table border=\"1\" class=\"dataframe\">\n",
       "  <thead>\n",
       "    <tr style=\"text-align: right;\">\n",
       "      <th></th>\n",
       "      <th>flow_duration</th>\n",
       "      <th>Header_Length</th>\n",
       "      <th>Protocol Type</th>\n",
       "      <th>Duration</th>\n",
       "      <th>Rate</th>\n",
       "      <th>Srate</th>\n",
       "      <th>Drate</th>\n",
       "      <th>fin_flag_number</th>\n",
       "      <th>syn_flag_number</th>\n",
       "      <th>rst_flag_number</th>\n",
       "      <th>...</th>\n",
       "      <th>Std</th>\n",
       "      <th>Tot size</th>\n",
       "      <th>IAT</th>\n",
       "      <th>Number</th>\n",
       "      <th>Magnitue</th>\n",
       "      <th>Radius</th>\n",
       "      <th>Covariance</th>\n",
       "      <th>Variance</th>\n",
       "      <th>Weight</th>\n",
       "      <th>label</th>\n",
       "    </tr>\n",
       "  </thead>\n",
       "  <tbody>\n",
       "    <tr>\n",
       "      <th>0</th>\n",
       "      <td>0.000000</td>\n",
       "      <td>54.00</td>\n",
       "      <td>6.00</td>\n",
       "      <td>64.00</td>\n",
       "      <td>0.329807</td>\n",
       "      <td>0.329807</td>\n",
       "      <td>0.0</td>\n",
       "      <td>1</td>\n",
       "      <td>0</td>\n",
       "      <td>1</td>\n",
       "      <td>...</td>\n",
       "      <td>0.000000</td>\n",
       "      <td>54.00</td>\n",
       "      <td>83343831.92</td>\n",
       "      <td>9.5</td>\n",
       "      <td>10.392305</td>\n",
       "      <td>0.000000</td>\n",
       "      <td>0.000000</td>\n",
       "      <td>0.00</td>\n",
       "      <td>141.55</td>\n",
       "      <td>DDoS-RSTFINFlood</td>\n",
       "    </tr>\n",
       "    <tr>\n",
       "      <th>1</th>\n",
       "      <td>0.000000</td>\n",
       "      <td>57.04</td>\n",
       "      <td>6.33</td>\n",
       "      <td>64.00</td>\n",
       "      <td>4.290556</td>\n",
       "      <td>4.290556</td>\n",
       "      <td>0.0</td>\n",
       "      <td>0</td>\n",
       "      <td>0</td>\n",
       "      <td>0</td>\n",
       "      <td>...</td>\n",
       "      <td>2.822973</td>\n",
       "      <td>57.04</td>\n",
       "      <td>82926067.47</td>\n",
       "      <td>9.5</td>\n",
       "      <td>10.464666</td>\n",
       "      <td>4.010353</td>\n",
       "      <td>160.987842</td>\n",
       "      <td>0.05</td>\n",
       "      <td>141.55</td>\n",
       "      <td>DoS-TCP_Flood</td>\n",
       "    </tr>\n",
       "    <tr>\n",
       "      <th>2</th>\n",
       "      <td>0.000000</td>\n",
       "      <td>0.00</td>\n",
       "      <td>1.00</td>\n",
       "      <td>64.00</td>\n",
       "      <td>33.396799</td>\n",
       "      <td>33.396799</td>\n",
       "      <td>0.0</td>\n",
       "      <td>0</td>\n",
       "      <td>0</td>\n",
       "      <td>0</td>\n",
       "      <td>...</td>\n",
       "      <td>0.000000</td>\n",
       "      <td>42.00</td>\n",
       "      <td>83127993.93</td>\n",
       "      <td>9.5</td>\n",
       "      <td>9.165151</td>\n",
       "      <td>0.000000</td>\n",
       "      <td>0.000000</td>\n",
       "      <td>0.00</td>\n",
       "      <td>141.55</td>\n",
       "      <td>DDoS-ICMP_Flood</td>\n",
       "    </tr>\n",
       "    <tr>\n",
       "      <th>3</th>\n",
       "      <td>0.328175</td>\n",
       "      <td>76175.00</td>\n",
       "      <td>17.00</td>\n",
       "      <td>64.00</td>\n",
       "      <td>4642.133010</td>\n",
       "      <td>4642.133010</td>\n",
       "      <td>0.0</td>\n",
       "      <td>0</td>\n",
       "      <td>0</td>\n",
       "      <td>0</td>\n",
       "      <td>...</td>\n",
       "      <td>0.000000</td>\n",
       "      <td>50.00</td>\n",
       "      <td>83015696.38</td>\n",
       "      <td>9.5</td>\n",
       "      <td>10.000000</td>\n",
       "      <td>0.000000</td>\n",
       "      <td>0.000000</td>\n",
       "      <td>0.00</td>\n",
       "      <td>141.55</td>\n",
       "      <td>DoS-UDP_Flood</td>\n",
       "    </tr>\n",
       "    <tr>\n",
       "      <th>4</th>\n",
       "      <td>0.117320</td>\n",
       "      <td>101.73</td>\n",
       "      <td>6.11</td>\n",
       "      <td>65.91</td>\n",
       "      <td>6.202211</td>\n",
       "      <td>6.202211</td>\n",
       "      <td>0.0</td>\n",
       "      <td>0</td>\n",
       "      <td>1</td>\n",
       "      <td>0</td>\n",
       "      <td>...</td>\n",
       "      <td>23.113111</td>\n",
       "      <td>57.88</td>\n",
       "      <td>82972999.18</td>\n",
       "      <td>9.5</td>\n",
       "      <td>11.346876</td>\n",
       "      <td>32.716243</td>\n",
       "      <td>3016.808286</td>\n",
       "      <td>0.19</td>\n",
       "      <td>141.55</td>\n",
       "      <td>DoS-SYN_Flood</td>\n",
       "    </tr>\n",
       "  </tbody>\n",
       "</table>\n",
       "<p>5 rows × 47 columns</p>\n",
       "</div>"
      ],
      "text/plain": [
       "   flow_duration  Header_Length  Protocol Type  Duration         Rate  \\\n",
       "0       0.000000          54.00           6.00     64.00     0.329807   \n",
       "1       0.000000          57.04           6.33     64.00     4.290556   \n",
       "2       0.000000           0.00           1.00     64.00    33.396799   \n",
       "3       0.328175       76175.00          17.00     64.00  4642.133010   \n",
       "4       0.117320         101.73           6.11     65.91     6.202211   \n",
       "\n",
       "         Srate  Drate  fin_flag_number  syn_flag_number  rst_flag_number  ...  \\\n",
       "0     0.329807    0.0                1                0                1  ...   \n",
       "1     4.290556    0.0                0                0                0  ...   \n",
       "2    33.396799    0.0                0                0                0  ...   \n",
       "3  4642.133010    0.0                0                0                0  ...   \n",
       "4     6.202211    0.0                0                1                0  ...   \n",
       "\n",
       "         Std  Tot size          IAT  Number   Magnitue     Radius  \\\n",
       "0   0.000000     54.00  83343831.92     9.5  10.392305   0.000000   \n",
       "1   2.822973     57.04  82926067.47     9.5  10.464666   4.010353   \n",
       "2   0.000000     42.00  83127993.93     9.5   9.165151   0.000000   \n",
       "3   0.000000     50.00  83015696.38     9.5  10.000000   0.000000   \n",
       "4  23.113111     57.88  82972999.18     9.5  11.346876  32.716243   \n",
       "\n",
       "    Covariance  Variance  Weight             label  \n",
       "0     0.000000      0.00  141.55  DDoS-RSTFINFlood  \n",
       "1   160.987842      0.05  141.55     DoS-TCP_Flood  \n",
       "2     0.000000      0.00  141.55   DDoS-ICMP_Flood  \n",
       "3     0.000000      0.00  141.55     DoS-UDP_Flood  \n",
       "4  3016.808286      0.19  141.55     DoS-SYN_Flood  \n",
       "\n",
       "[5 rows x 47 columns]"
      ]
     },
     "execution_count": 12,
     "metadata": {},
     "output_type": "execute_result"
    }
   ],
   "source": [
    "df1=df[df['label'].isin(final_label_list)].copy()\n",
    "df1.head()"
   ]
  },
  {
   "cell_type": "code",
   "execution_count": 13,
   "id": "b11d7b8e-fa4e-4c83-a641-760e2336ab85",
   "metadata": {},
   "outputs": [
    {
     "data": {
      "text/plain": [
       "(1013054, 47)"
      ]
     },
     "execution_count": 13,
     "metadata": {},
     "output_type": "execute_result"
    }
   ],
   "source": [
    "df1.shape"
   ]
  },
  {
   "cell_type": "code",
   "execution_count": 14,
   "id": "5f8adeb3-1ec5-42ab-8e0c-c6f2c43a0001",
   "metadata": {},
   "outputs": [
    {
     "data": {
      "text/plain": [
       "label\n",
       "DDoS-ICMP_Flood            161281\n",
       "DDoS-UDP_Flood             121205\n",
       "DDoS-TCP_Flood             101293\n",
       "DDoS-PSHACK_Flood           92395\n",
       "DDoS-SYN_Flood              91644\n",
       "DDoS-RSTFINFlood            90823\n",
       "DDoS-SynonymousIP_Flood     80680\n",
       "DoS-UDP_Flood               74787\n",
       "DoS-TCP_Flood               59807\n",
       "DoS-SYN_Flood               45207\n",
       "BenignTraffic               24476\n",
       "Mirai-greeth_flood          22115\n",
       "Mirai-udpplain              20166\n",
       "Mirai-greip_flood           16952\n",
       "DDoS-ICMP_Fragmentation     10223\n",
       "Name: count, dtype: int64"
      ]
     },
     "execution_count": 14,
     "metadata": {},
     "output_type": "execute_result"
    }
   ],
   "source": [
    "df1['label'].value_counts()"
   ]
  },
  {
   "cell_type": "code",
   "execution_count": 15,
   "id": "c6663e54-1cdc-4156-9cf4-487d5e6b8d61",
   "metadata": {},
   "outputs": [
    {
     "data": {
      "text/plain": [
       "{'DDoS-ICMP_Flood': 'DDoS',\n",
       " 'DDoS-UDP_Flood': 'DDoS',\n",
       " 'DDoS-TCP_Flood': 'DDoS',\n",
       " 'DDoS-PSHACK_Flood': 'DDoS',\n",
       " 'DDoS-SYN_Flood': 'DDoS',\n",
       " 'DDoS-RSTFINFlood': 'DDoS',\n",
       " 'DDoS-SynonymousIP_Flood': 'DDoS',\n",
       " 'DoS-UDP_Flood': 'DoS',\n",
       " 'DoS-TCP_Flood': 'DoS',\n",
       " 'DoS-SYN_Flood': 'DoS',\n",
       " 'BenignTraffic': 'Benign',\n",
       " 'Mirai-greeth_flood': 'Mirai',\n",
       " 'Mirai-udpplain': 'Mirai',\n",
       " 'Mirai-greip_flood': 'Mirai',\n",
       " 'DDoS-ICMP_Fragmentation': 'DDoS'}"
      ]
     },
     "execution_count": 15,
     "metadata": {},
     "output_type": "execute_result"
    }
   ],
   "source": [
    "label_rename={}\n",
    "for x in final_label_list:\n",
    "    if 'DDoS' in x:\n",
    "        label_rename[x]='DDoS'\n",
    "    elif 'DoS' in x:\n",
    "        label_rename[x]='DoS'\n",
    "    elif 'Mirai' in x:\n",
    "        label_rename[x]='Mirai'\n",
    "    else:\n",
    "        label_rename[x]='Benign'\n",
    "label_rename"
   ]
  },
  {
   "cell_type": "code",
   "execution_count": 16,
   "id": "85df9f4f-4b74-49eb-b04f-d809ca9f8262",
   "metadata": {},
   "outputs": [],
   "source": [
    "df1['label'] = df1['label'].replace(label_rename)"
   ]
  },
  {
   "cell_type": "code",
   "execution_count": 17,
   "id": "316749e3-6233-4cd1-825f-3790dd285d92",
   "metadata": {},
   "outputs": [
    {
     "data": {
      "text/plain": [
       "(label\n",
       " DDoS      749544\n",
       " DoS       179801\n",
       " Mirai      59233\n",
       " Benign     24476\n",
       " Name: count, dtype: int64,\n",
       " 'DoS')"
      ]
     },
     "execution_count": 17,
     "metadata": {},
     "output_type": "execute_result"
    }
   ],
   "source": [
    "label_count=df1['label'].value_counts()\n",
    "label_count,label_count.index[1]"
   ]
  },
  {
   "cell_type": "code",
   "execution_count": 18,
   "id": "e45d6a69-2f1c-4de4-b484-51f652f511a3",
   "metadata": {},
   "outputs": [
    {
     "data": {
      "text/plain": [
       "{'DDoS': 0, 'DoS': 1, 'Mirai': 2, 'Benign': 3}"
      ]
     },
     "execution_count": 18,
     "metadata": {},
     "output_type": "execute_result"
    }
   ],
   "source": [
    "label_mapping={label_count.index[i]:i for i in range(4)}\n",
    "label_mapping"
   ]
  },
  {
   "cell_type": "code",
   "execution_count": 19,
   "id": "1599b854-1c1f-4402-b464-a68183e71cf8",
   "metadata": {},
   "outputs": [
    {
     "name": "stderr",
     "output_type": "stream",
     "text": [
      "C:\\Users\\91821\\AppData\\Local\\Temp\\ipykernel_11744\\410992584.py:1: FutureWarning: Downcasting behavior in `replace` is deprecated and will be removed in a future version. To retain the old behavior, explicitly call `result.infer_objects(copy=False)`. To opt-in to the future behavior, set `pd.set_option('future.no_silent_downcasting', True)`\n",
      "  df1['label'] = df1['label'].replace(label_mapping)\n"
     ]
    },
    {
     "data": {
      "text/html": [
       "<div>\n",
       "<style scoped>\n",
       "    .dataframe tbody tr th:only-of-type {\n",
       "        vertical-align: middle;\n",
       "    }\n",
       "\n",
       "    .dataframe tbody tr th {\n",
       "        vertical-align: top;\n",
       "    }\n",
       "\n",
       "    .dataframe thead th {\n",
       "        text-align: right;\n",
       "    }\n",
       "</style>\n",
       "<table border=\"1\" class=\"dataframe\">\n",
       "  <thead>\n",
       "    <tr style=\"text-align: right;\">\n",
       "      <th></th>\n",
       "      <th>flow_duration</th>\n",
       "      <th>Header_Length</th>\n",
       "      <th>Protocol Type</th>\n",
       "      <th>Duration</th>\n",
       "      <th>Rate</th>\n",
       "      <th>Srate</th>\n",
       "      <th>Drate</th>\n",
       "      <th>fin_flag_number</th>\n",
       "      <th>syn_flag_number</th>\n",
       "      <th>rst_flag_number</th>\n",
       "      <th>...</th>\n",
       "      <th>Std</th>\n",
       "      <th>Tot size</th>\n",
       "      <th>IAT</th>\n",
       "      <th>Number</th>\n",
       "      <th>Magnitue</th>\n",
       "      <th>Radius</th>\n",
       "      <th>Covariance</th>\n",
       "      <th>Variance</th>\n",
       "      <th>Weight</th>\n",
       "      <th>label</th>\n",
       "    </tr>\n",
       "  </thead>\n",
       "  <tbody>\n",
       "    <tr>\n",
       "      <th>312346</th>\n",
       "      <td>0.004805</td>\n",
       "      <td>193.37</td>\n",
       "      <td>1.05</td>\n",
       "      <td>65.74</td>\n",
       "      <td>33.775679</td>\n",
       "      <td>33.775679</td>\n",
       "      <td>0.0</td>\n",
       "      <td>0</td>\n",
       "      <td>0</td>\n",
       "      <td>0</td>\n",
       "      <td>...</td>\n",
       "      <td>2.572440</td>\n",
       "      <td>47.83</td>\n",
       "      <td>83124651.01</td>\n",
       "      <td>9.5</td>\n",
       "      <td>9.222986</td>\n",
       "      <td>3.682105</td>\n",
       "      <td>338.947479</td>\n",
       "      <td>0.02</td>\n",
       "      <td>141.55</td>\n",
       "      <td>0</td>\n",
       "    </tr>\n",
       "    <tr>\n",
       "      <th>70031</th>\n",
       "      <td>0.000000</td>\n",
       "      <td>53.46</td>\n",
       "      <td>5.94</td>\n",
       "      <td>63.36</td>\n",
       "      <td>71.930202</td>\n",
       "      <td>71.930202</td>\n",
       "      <td>0.0</td>\n",
       "      <td>0</td>\n",
       "      <td>0</td>\n",
       "      <td>0</td>\n",
       "      <td>...</td>\n",
       "      <td>0.054336</td>\n",
       "      <td>54.06</td>\n",
       "      <td>83037707.52</td>\n",
       "      <td>9.5</td>\n",
       "      <td>10.393571</td>\n",
       "      <td>0.077297</td>\n",
       "      <td>0.074720</td>\n",
       "      <td>0.04</td>\n",
       "      <td>141.55</td>\n",
       "      <td>0</td>\n",
       "    </tr>\n",
       "    <tr>\n",
       "      <th>917215</th>\n",
       "      <td>0.033577</td>\n",
       "      <td>20375.00</td>\n",
       "      <td>17.00</td>\n",
       "      <td>64.00</td>\n",
       "      <td>12152.519190</td>\n",
       "      <td>12152.519190</td>\n",
       "      <td>0.0</td>\n",
       "      <td>0</td>\n",
       "      <td>0</td>\n",
       "      <td>0</td>\n",
       "      <td>...</td>\n",
       "      <td>0.000000</td>\n",
       "      <td>50.00</td>\n",
       "      <td>83107439.89</td>\n",
       "      <td>9.5</td>\n",
       "      <td>10.000000</td>\n",
       "      <td>0.000000</td>\n",
       "      <td>0.000000</td>\n",
       "      <td>0.00</td>\n",
       "      <td>141.55</td>\n",
       "      <td>0</td>\n",
       "    </tr>\n",
       "    <tr>\n",
       "      <th>564796</th>\n",
       "      <td>0.119152</td>\n",
       "      <td>17675.00</td>\n",
       "      <td>17.00</td>\n",
       "      <td>64.00</td>\n",
       "      <td>2965.002210</td>\n",
       "      <td>2965.002210</td>\n",
       "      <td>0.0</td>\n",
       "      <td>0</td>\n",
       "      <td>0</td>\n",
       "      <td>0</td>\n",
       "      <td>...</td>\n",
       "      <td>0.000000</td>\n",
       "      <td>50.00</td>\n",
       "      <td>83015695.17</td>\n",
       "      <td>9.5</td>\n",
       "      <td>10.000000</td>\n",
       "      <td>0.000000</td>\n",
       "      <td>0.000000</td>\n",
       "      <td>0.00</td>\n",
       "      <td>141.55</td>\n",
       "      <td>1</td>\n",
       "    </tr>\n",
       "    <tr>\n",
       "      <th>76509</th>\n",
       "      <td>0.016800</td>\n",
       "      <td>14375.00</td>\n",
       "      <td>17.00</td>\n",
       "      <td>64.00</td>\n",
       "      <td>17087.402320</td>\n",
       "      <td>17087.402320</td>\n",
       "      <td>0.0</td>\n",
       "      <td>0</td>\n",
       "      <td>0</td>\n",
       "      <td>0</td>\n",
       "      <td>...</td>\n",
       "      <td>0.000000</td>\n",
       "      <td>50.00</td>\n",
       "      <td>83012131.29</td>\n",
       "      <td>9.5</td>\n",
       "      <td>10.000000</td>\n",
       "      <td>0.000000</td>\n",
       "      <td>0.000000</td>\n",
       "      <td>0.00</td>\n",
       "      <td>141.55</td>\n",
       "      <td>1</td>\n",
       "    </tr>\n",
       "  </tbody>\n",
       "</table>\n",
       "<p>5 rows × 47 columns</p>\n",
       "</div>"
      ],
      "text/plain": [
       "        flow_duration  Header_Length  Protocol Type  Duration          Rate  \\\n",
       "312346       0.004805         193.37           1.05     65.74     33.775679   \n",
       "70031        0.000000          53.46           5.94     63.36     71.930202   \n",
       "917215       0.033577       20375.00          17.00     64.00  12152.519190   \n",
       "564796       0.119152       17675.00          17.00     64.00   2965.002210   \n",
       "76509        0.016800       14375.00          17.00     64.00  17087.402320   \n",
       "\n",
       "               Srate  Drate  fin_flag_number  syn_flag_number  \\\n",
       "312346     33.775679    0.0                0                0   \n",
       "70031      71.930202    0.0                0                0   \n",
       "917215  12152.519190    0.0                0                0   \n",
       "564796   2965.002210    0.0                0                0   \n",
       "76509   17087.402320    0.0                0                0   \n",
       "\n",
       "        rst_flag_number  ...       Std  Tot size          IAT  Number  \\\n",
       "312346                0  ...  2.572440     47.83  83124651.01     9.5   \n",
       "70031                 0  ...  0.054336     54.06  83037707.52     9.5   \n",
       "917215                0  ...  0.000000     50.00  83107439.89     9.5   \n",
       "564796                0  ...  0.000000     50.00  83015695.17     9.5   \n",
       "76509                 0  ...  0.000000     50.00  83012131.29     9.5   \n",
       "\n",
       "         Magnitue    Radius  Covariance  Variance  Weight  label  \n",
       "312346   9.222986  3.682105  338.947479      0.02  141.55      0  \n",
       "70031   10.393571  0.077297    0.074720      0.04  141.55      0  \n",
       "917215  10.000000  0.000000    0.000000      0.00  141.55      0  \n",
       "564796  10.000000  0.000000    0.000000      0.00  141.55      1  \n",
       "76509   10.000000  0.000000    0.000000      0.00  141.55      1  \n",
       "\n",
       "[5 rows x 47 columns]"
      ]
     },
     "execution_count": 19,
     "metadata": {},
     "output_type": "execute_result"
    }
   ],
   "source": [
    "df1['label'] = df1['label'].replace(label_mapping)\n",
    "df1.sample(5)"
   ]
  },
  {
   "cell_type": "code",
   "execution_count": 20,
   "id": "d3e1057d-e25b-4439-963d-a8f6b8633876",
   "metadata": {},
   "outputs": [
    {
     "data": {
      "image/png": "[encoded data removed]",
      "text/plain": [
       "<Figure size 640x480 with 1 Axes>"
      ]
     },
     "metadata": {},
     "output_type": "display_data"
    }
   ],
   "source": [
    "label_count.plot(kind='bar', color='skyblue', edgecolor='black')\n",
    "\n",
    "plt.title('Count of Each Label in Dataset')\n",
    "plt.xlabel('Label')\n",
    "plt.ylabel('Count')\n",
    "\n",
    "plt.show()"
   ]
  },
  {
   "cell_type": "markdown",
   "id": "a2545eb7-4272-4edc-af5e-0a0461cb107d",
   "metadata": {},
   "source": [
    "## Model Building"
   ]
  },
  {
   "cell_type": "code",
   "execution_count": 21,
   "id": "e3039116-74ec-4866-8857-ba74d778dd85",
   "metadata": {
    "scrolled": true
   },
   "outputs": [
    {
     "name": "stdout",
     "output_type": "stream",
     "text": [
      "Collecting xgboost\n",
      "  Downloading xgboost-3.0.1-py3-none-win_amd64.whl.metadata (2.1 kB)\n",
      "Requirement already satisfied: numpy in c:\\users\\91821\\onedrive\\documents\\8th sem\\major_prj_code\\ddos_simulator\\venv\\lib\\site-packages (from xgboost) (1.26.4)\n",
      "Requirement already satisfied: scipy in c:\\users\\91821\\onedrive\\documents\\8th sem\\major_prj_code\\ddos_simulator\\venv\\lib\\site-packages (from xgboost) (1.15.3)\n",
      "Downloading xgboost-3.0.1-py3-none-win_amd64.whl (150.0 MB)\n",
      "   ---------------------------------------- 0.0/150.0 MB ? eta -:--:--\n",
      "   ---------------------------------------- 0.3/150.0 MB ? eta -:--:--\n",
      "   ---------------------------------------- 0.5/150.0 MB 1.7 MB/s eta 0:01:29\n",
      "   ---------------------------------------- 1.0/150.0 MB 2.0 MB/s eta 0:01:14\n",
      "   ---------------------------------------- 1.6/150.0 MB 2.0 MB/s eta 0:01:13\n",
      "    --------------------------------------- 2.1/150.0 MB 2.2 MB/s eta 0:01:09\n",
      "    --------------------------------------- 2.6/150.0 MB 2.3 MB/s eta 0:01:06\n",
      "    --------------------------------------- 3.1/150.0 MB 2.4 MB/s eta 0:01:03\n",
      "    --------------------------------------- 3.7/150.0 MB 2.4 MB/s eta 0:01:02\n",
      "   - -------------------------------------- 4.2/150.0 MB 2.4 MB/s eta 0:01:00\n",
      "   - -------------------------------------- 4.7/150.0 MB 2.4 MB/s eta 0:01:01\n",
      "   - -------------------------------------- 5.2/150.0 MB 2.5 MB/s eta 0:01:00\n",
      "   - -------------------------------------- 5.8/150.0 MB 2.5 MB/s eta 0:00:59\n",
      "   - -------------------------------------- 6.6/150.0 MB 2.5 MB/s eta 0:00:57\n",
      "   - -------------------------------------- 7.3/150.0 MB 2.6 MB/s eta 0:00:55\n",
      "   -- ------------------------------------- 7.9/150.0 MB 2.6 MB/s eta 0:00:55\n",
      "   -- ------------------------------------- 8.4/150.0 MB 2.6 MB/s eta 0:00:55\n",
      "   -- ------------------------------------- 8.7/150.0 MB 2.5 MB/s eta 0:00:56\n",
      "   -- ------------------------------------- 9.2/150.0 MB 2.5 MB/s eta 0:00:56\n",
      "   -- ------------------------------------- 9.7/150.0 MB 2.5 MB/s eta 0:00:56\n",
      "   -- ------------------------------------- 10.2/150.0 MB 2.6 MB/s eta 0:00:55\n",
      "   -- ------------------------------------- 11.0/150.0 MB 2.6 MB/s eta 0:00:54\n",
      "   --- ------------------------------------ 11.5/150.0 MB 2.6 MB/s eta 0:00:53\n",
      "   --- ------------------------------------ 12.1/150.0 MB 2.6 MB/s eta 0:00:53\n",
      "   --- ------------------------------------ 12.1/150.0 MB 2.6 MB/s eta 0:00:53\n",
      "   --- ------------------------------------ 12.6/150.0 MB 2.5 MB/s eta 0:00:56\n",
      "   --- ------------------------------------ 13.4/150.0 MB 2.5 MB/s eta 0:00:55\n",
      "   --- ------------------------------------ 13.9/150.0 MB 2.5 MB/s eta 0:00:54\n",
      "   --- ------------------------------------ 14.7/150.0 MB 2.6 MB/s eta 0:00:53\n",
      "   ---- ----------------------------------- 15.2/150.0 MB 2.6 MB/s eta 0:00:53\n",
      "   ---- ----------------------------------- 15.5/150.0 MB 2.5 MB/s eta 0:00:53\n",
      "   ---- ----------------------------------- 16.5/150.0 MB 2.6 MB/s eta 0:00:52\n",
      "   ---- ----------------------------------- 17.0/150.0 MB 2.6 MB/s eta 0:00:51\n",
      "   ---- ----------------------------------- 17.8/150.0 MB 2.6 MB/s eta 0:00:50\n",
      "   ---- ----------------------------------- 18.6/150.0 MB 2.7 MB/s eta 0:00:50\n",
      "   ----- ---------------------------------- 19.1/150.0 MB 2.7 MB/s eta 0:00:50\n",
      "   ----- ---------------------------------- 19.9/150.0 MB 2.7 MB/s eta 0:00:49\n",
      "   ----- ---------------------------------- 20.7/150.0 MB 2.7 MB/s eta 0:00:48\n",
      "   ----- ---------------------------------- 21.2/150.0 MB 2.7 MB/s eta 0:00:48\n",
      "   ----- ---------------------------------- 22.0/150.0 MB 2.7 MB/s eta 0:00:47\n",
      "   ------ --------------------------------- 22.8/150.0 MB 2.8 MB/s eta 0:00:46\n",
      "   ------ --------------------------------- 23.6/150.0 MB 2.8 MB/s eta 0:00:46\n",
      "   ------ --------------------------------- 24.4/150.0 MB 2.8 MB/s eta 0:00:45\n",
      "   ------ --------------------------------- 25.2/150.0 MB 2.8 MB/s eta 0:00:45\n",
      "   ------ --------------------------------- 26.0/150.0 MB 2.8 MB/s eta 0:00:44\n",
      "   ------- -------------------------------- 26.5/150.0 MB 2.8 MB/s eta 0:00:44\n",
      "   ------- -------------------------------- 27.0/150.0 MB 2.9 MB/s eta 0:00:43\n",
      "   ------- -------------------------------- 27.8/150.0 MB 2.9 MB/s eta 0:00:43\n",
      "   ------- -------------------------------- 28.6/150.0 MB 2.9 MB/s eta 0:00:43\n",
      "   ------- -------------------------------- 29.4/150.0 MB 2.9 MB/s eta 0:00:42\n",
      "   -------- ------------------------------- 30.1/150.0 MB 2.9 MB/s eta 0:00:42\n",
      "   -------- ------------------------------- 30.9/150.0 MB 2.9 MB/s eta 0:00:41\n",
      "   -------- ------------------------------- 31.7/150.0 MB 3.0 MB/s eta 0:00:41\n",
      "   -------- ------------------------------- 32.5/150.0 MB 3.0 MB/s eta 0:00:40\n",
      "   -------- ------------------------------- 33.3/150.0 MB 3.0 MB/s eta 0:00:40\n",
      "   --------- ------------------------------ 34.1/150.0 MB 3.0 MB/s eta 0:00:39\n",
      "   --------- ------------------------------ 35.1/150.0 MB 3.0 MB/s eta 0:00:39\n",
      "   --------- ------------------------------ 35.9/150.0 MB 3.0 MB/s eta 0:00:38\n",
      "   --------- ------------------------------ 36.4/150.0 MB 3.0 MB/s eta 0:00:38\n",
      "   --------- ------------------------------ 37.2/150.0 MB 3.1 MB/s eta 0:00:37\n",
      "   --------- ------------------------------ 37.2/150.0 MB 3.1 MB/s eta 0:00:37\n",
      "   ---------- ----------------------------- 37.7/150.0 MB 3.0 MB/s eta 0:00:38\n",
      "   ---------- ----------------------------- 38.8/150.0 MB 3.0 MB/s eta 0:00:37\n",
      "   ---------- ----------------------------- 39.6/150.0 MB 3.0 MB/s eta 0:00:37\n",
      "   ---------- ----------------------------- 40.4/150.0 MB 3.0 MB/s eta 0:00:36\n",
      "   ----------- ---------------------------- 41.4/150.0 MB 3.1 MB/s eta 0:00:36\n",
      "   ----------- ---------------------------- 42.2/150.0 MB 3.1 MB/s eta 0:00:36\n",
      "   ----------- ---------------------------- 43.0/150.0 MB 3.1 MB/s eta 0:00:35\n",
      "   ----------- ---------------------------- 43.8/150.0 MB 3.1 MB/s eta 0:00:35\n",
      "   ----------- ---------------------------- 44.8/150.0 MB 3.1 MB/s eta 0:00:34\n",
      "   ------------ --------------------------- 45.6/150.0 MB 3.1 MB/s eta 0:00:34\n",
      "   ------------ --------------------------- 46.7/150.0 MB 3.2 MB/s eta 0:00:33\n",
      "   ------------ --------------------------- 47.4/150.0 MB 3.2 MB/s eta 0:00:33\n",
      "   ------------ --------------------------- 48.5/150.0 MB 3.2 MB/s eta 0:00:32\n",
      "   ------------- -------------------------- 49.0/150.0 MB 3.2 MB/s eta 0:00:32\n",
      "   ------------- -------------------------- 49.8/150.0 MB 3.2 MB/s eta 0:00:32\n",
      "   ------------- -------------------------- 50.9/150.0 MB 3.2 MB/s eta 0:00:31\n",
      "   ------------- -------------------------- 51.9/150.0 MB 3.2 MB/s eta 0:00:31\n",
      "   -------------- ------------------------- 52.7/150.0 MB 3.2 MB/s eta 0:00:30\n",
      "   -------------- ------------------------- 53.7/150.0 MB 3.3 MB/s eta 0:00:30\n",
      "   -------------- ------------------------- 54.5/150.0 MB 3.3 MB/s eta 0:00:30\n",
      "   -------------- ------------------------- 55.8/150.0 MB 3.3 MB/s eta 0:00:29\n",
      "   --------------- ------------------------ 56.9/150.0 MB 3.3 MB/s eta 0:00:28\n",
      "   --------------- ------------------------ 57.9/150.0 MB 3.4 MB/s eta 0:00:28\n",
      "   --------------- ------------------------ 59.2/150.0 MB 3.4 MB/s eta 0:00:27\n",
      "   ---------------- ----------------------- 60.3/150.0 MB 3.4 MB/s eta 0:00:27\n",
      "   ---------------- ----------------------- 61.3/150.0 MB 3.4 MB/s eta 0:00:26\n",
      "   ---------------- ----------------------- 62.1/150.0 MB 3.4 MB/s eta 0:00:26\n",
      "   ---------------- ----------------------- 63.2/150.0 MB 3.5 MB/s eta 0:00:26\n",
      "   ----------------- ---------------------- 64.0/150.0 MB 3.5 MB/s eta 0:00:25\n",
      "   ----------------- ---------------------- 65.0/150.0 MB 3.5 MB/s eta 0:00:25\n",
      "   ----------------- ---------------------- 66.1/150.0 MB 3.5 MB/s eta 0:00:25\n",
      "   ----------------- ---------------------- 66.6/150.0 MB 3.5 MB/s eta 0:00:24\n",
      "   ----------------- ---------------------- 67.4/150.0 MB 3.5 MB/s eta 0:00:24\n",
      "   ------------------ --------------------- 68.2/150.0 MB 3.5 MB/s eta 0:00:24\n",
      "   ------------------ --------------------- 68.9/150.0 MB 3.5 MB/s eta 0:00:24\n",
      "   ------------------ --------------------- 70.0/150.0 MB 3.5 MB/s eta 0:00:23\n",
      "   ------------------ --------------------- 70.8/150.0 MB 3.5 MB/s eta 0:00:23\n",
      "   ------------------- -------------------- 71.6/150.0 MB 3.5 MB/s eta 0:00:23\n",
      "   ------------------- -------------------- 72.4/150.0 MB 3.5 MB/s eta 0:00:23\n",
      "   ------------------- -------------------- 72.6/150.0 MB 3.5 MB/s eta 0:00:23\n",
      "   ------------------- -------------------- 73.1/150.0 MB 3.5 MB/s eta 0:00:23\n",
      "   ------------------- -------------------- 73.9/150.0 MB 3.5 MB/s eta 0:00:22\n",
      "   ------------------- -------------------- 74.7/150.0 MB 3.5 MB/s eta 0:00:22\n",
      "   -------------------- ------------------- 75.5/150.0 MB 3.5 MB/s eta 0:00:22\n",
      "   -------------------- ------------------- 76.3/150.0 MB 3.5 MB/s eta 0:00:22\n",
      "   -------------------- ------------------- 77.1/150.0 MB 3.5 MB/s eta 0:00:21\n",
      "   -------------------- ------------------- 78.1/150.0 MB 3.5 MB/s eta 0:00:21\n",
      "   --------------------- ------------------ 78.9/150.0 MB 3.5 MB/s eta 0:00:21\n",
      "   --------------------- ------------------ 80.0/150.0 MB 3.5 MB/s eta 0:00:20\n",
      "   --------------------- ------------------ 81.0/150.0 MB 3.5 MB/s eta 0:00:20\n",
      "   --------------------- ------------------ 82.1/150.0 MB 3.5 MB/s eta 0:00:20\n",
      "   ---------------------- ----------------- 82.8/150.0 MB 3.6 MB/s eta 0:00:19\n",
      "   ---------------------- ----------------- 83.9/150.0 MB 3.6 MB/s eta 0:00:19\n",
      "   ---------------------- ----------------- 84.7/150.0 MB 3.6 MB/s eta 0:00:19\n",
      "   ---------------------- ----------------- 86.0/150.0 MB 3.6 MB/s eta 0:00:18\n",
      "   ----------------------- ---------------- 86.8/150.0 MB 3.6 MB/s eta 0:00:18\n",
      "   ----------------------- ---------------- 88.1/150.0 MB 3.6 MB/s eta 0:00:18\n",
      "   ----------------------- ---------------- 89.1/150.0 MB 3.6 MB/s eta 0:00:17\n",
      "   ------------------------ --------------- 90.4/150.0 MB 3.6 MB/s eta 0:00:17\n",
      "   ------------------------ --------------- 91.2/150.0 MB 3.6 MB/s eta 0:00:17\n",
      "   ------------------------ --------------- 91.2/150.0 MB 3.6 MB/s eta 0:00:17\n",
      "   ------------------------ --------------- 91.5/150.0 MB 3.6 MB/s eta 0:00:17\n",
      "   ------------------------ --------------- 92.5/150.0 MB 3.6 MB/s eta 0:00:16\n",
      "   ------------------------- -------------- 93.8/150.0 MB 3.6 MB/s eta 0:00:16\n",
      "   ------------------------- -------------- 95.7/150.0 MB 3.7 MB/s eta 0:00:15\n",
      "   ------------------------- -------------- 97.3/150.0 MB 3.7 MB/s eta 0:00:15\n",
      "   -------------------------- ------------- 99.9/150.0 MB 3.8 MB/s eta 0:00:14\n",
      "   --------------------------- ------------ 103.0/150.0 MB 3.9 MB/s eta 0:00:13\n",
      "   ---------------------------- ----------- 106.2/150.0 MB 3.9 MB/s eta 0:00:12\n",
      "   ----------------------------- ---------- 108.8/150.0 MB 4.0 MB/s eta 0:00:11\n",
      "   ----------------------------- ---------- 111.7/150.0 MB 4.1 MB/s eta 0:00:10\n",
      "   ------------------------------ --------- 113.8/150.0 MB 4.1 MB/s eta 0:00:09\n",
      "   ------------------------------ --------- 114.0/150.0 MB 4.1 MB/s eta 0:00:09\n",
      "   ------------------------------ --------- 115.3/150.0 MB 4.1 MB/s eta 0:00:09\n",
      "   ------------------------------- -------- 118.2/150.0 MB 4.2 MB/s eta 0:00:08\n",
      "   -------------------------------- ------- 121.6/150.0 MB 4.3 MB/s eta 0:00:07\n",
      "   --------------------------------- ------ 124.8/150.0 MB 4.4 MB/s eta 0:00:06\n",
      "   ---------------------------------- ----- 128.2/150.0 MB 4.4 MB/s eta 0:00:05\n",
      "   ---------------------------------- ----- 128.7/150.0 MB 4.5 MB/s eta 0:00:05\n",
      "   ---------------------------------- ----- 129.5/150.0 MB 4.4 MB/s eta 0:00:05\n",
      "   ----------------------------------- ---- 131.3/150.0 MB 4.5 MB/s eta 0:00:05\n",
      "   ----------------------------------- ---- 133.2/150.0 MB 4.5 MB/s eta 0:00:04\n",
      "   ------------------------------------ --- 135.5/150.0 MB 4.5 MB/s eta 0:00:04\n",
      "   ------------------------------------- -- 138.9/150.0 MB 4.6 MB/s eta 0:00:03\n",
      "   ------------------------------------- -- 140.8/150.0 MB 4.7 MB/s eta 0:00:02\n",
      "   -------------------------------------- - 143.9/150.0 MB 4.8 MB/s eta 0:00:02\n",
      "   ---------------------------------------  147.1/150.0 MB 4.8 MB/s eta 0:00:01\n",
      "   ---------------------------------------  149.7/150.0 MB 4.9 MB/s eta 0:00:01\n",
      "   ---------------------------------------  149.9/150.0 MB 4.9 MB/s eta 0:00:01\n",
      "   ---------------------------------------  149.9/150.0 MB 4.9 MB/s eta 0:00:01\n",
      "   ---------------------------------------- 150.0/150.0 MB 4.9 MB/s eta 0:00:00\n",
      "Installing collected packages: xgboost\n",
      "Successfully installed xgboost-3.0.1\n"
     ]
    }
   ],
   "source": [
    "!pip install xgboost"
   ]
  },
  {
   "cell_type": "code",
   "execution_count": 22,
   "id": "6dcdb375-95cf-4f05-957c-512b20e2809f",
   "metadata": {},
   "outputs": [],
   "source": [
    "from sklearn.model_selection import train_test_split\n",
    "from sklearn.svm import SVC\n",
    "from sklearn.ensemble import RandomForestClassifier\n",
    "from sklearn.metrics import classification_report, accuracy_score, confusion_matrix\n",
    "from sklearn.decomposition import PCA\n",
    "from sklearn.preprocessing import StandardScaler\n",
    "from xgboost import XGBClassifier"
   ]
  },
  {
   "cell_type": "markdown",
   "id": "7a9f593e-9470-4de2-aa52-e157bc25590e",
   "metadata": {},
   "source": [
    "### 1) Random Forest Function"
   ]
  },
  {
   "cell_type": "code",
   "execution_count": 23,
   "id": "9ecba3d1-6089-49ae-beb3-8da5e90e5b30",
   "metadata": {},
   "outputs": [],
   "source": [
    "pca = PCA(n_components=0.95)\n",
    "sc = StandardScaler()\n",
    "def space_optimized(X_train: np.ndarray):\n",
    "    if not isinstance(X_train, np.ndarray):\n",
    "        raise ValueError(\"Input X_train must be a NumPy array.\")\n",
    "\n",
    "    if X_train.ndim == 1:\n",
    "        X_train=X_train.astype('int8')\n",
    "        return X_train\n",
    "    \n",
    "    global sc\n",
    "    scaled_data = sc.fit_transform(X_train)\n",
    "\n",
    "    #--> Datatype precision decrement \n",
    "    scaled_data=scaled_data.astype('float16')\n",
    "    \n",
    "    #--> PCA\n",
    "    global pca\n",
    "    principal_components = pca.fit_transform(scaled_data)\n",
    "\n",
    "    pca_df = pd.DataFrame(data=principal_components)\n",
    "    return pca_df"
   ]
  },
  {
   "cell_type": "code",
   "execution_count": 24,
   "id": "9b309adb-4103-4138-9611-ffb557b21c12",
   "metadata": {},
   "outputs": [],
   "source": [
    "def random_forest(X_train,y_train,class_weight=None):\n",
    "    cw=class_weight if class_weight is not None else 'balanced'\n",
    "    model=RandomForestClassifier(n_estimators=100, random_state=42, verbose=1, class_weight=cw, n_jobs=-1)\n",
    "    model.fit(X_train,y_train)\n",
    "    return model"
   ]
  },
  {
   "cell_type": "code",
   "execution_count": 25,
   "id": "71009d34-e6a0-4439-a772-ff3f9f4c8948",
   "metadata": {},
   "outputs": [],
   "source": [
    "def random_forest_opt(X_train,y_train,class_weight=None):\n",
    "    X_train=space_optimized(X_train)\n",
    "    y_train=space_optimized(y_train)\n",
    "    cw=class_weight if class_weight is not None else 'balanced'\n",
    "    model=RandomForestClassifier(n_estimators=50, random_state=42, verbose=1, class_weight=cw, n_jobs=-1)\n",
    "    model.fit(X_train,y_train)\n",
    "    return model"
   ]
  },
  {
   "cell_type": "markdown",
   "id": "4a70f970-b151-4b6d-ba88-1147ddcc70f0",
   "metadata": {},
   "source": [
    "### 2) SVM"
   ]
  },
  {
   "cell_type": "code",
   "execution_count": 26,
   "id": "d70a3f79-7b2c-4df6-9c82-9c633323c53b",
   "metadata": {},
   "outputs": [],
   "source": [
    "def svm(X_train,y_train,class_weight=None):\n",
    "    cw=class_weight if class_weight is not None else 'balanced'\n",
    "    model=SVC(random_state=42,class_weight=cw,n_jobs=-1)\n",
    "    model.fit(X_train,y_train)\n",
    "    return model"
   ]
  },
  {
   "cell_type": "code",
   "execution_count": 27,
   "id": "2e2111f5-70f6-4c50-80d2-8213e8b5350f",
   "metadata": {},
   "outputs": [],
   "source": [
    "def svm_opt(X_train,y_train,class_weight=None):\n",
    "    X_train=space_optimized(X_train)\n",
    "    y_train=space_optimized(y_train)\n",
    "    cw=class_weight if class_weight is not None else 'balanced'\n",
    "    model=SVC(random_state=42,class_weight=cw,n_jobs=-1)\n",
    "    model.fit(X_train,y_train)\n",
    "    return model"
   ]
  },
  {
   "cell_type": "markdown",
   "id": "e1e97a17-2f16-441f-9827-02756966ce16",
   "metadata": {},
   "source": [
    "### 3) XGBoost"
   ]
  },
  {
   "cell_type": "code",
   "execution_count": 28,
   "id": "a690c777-35ab-4c61-b388-0c7e110ebd62",
   "metadata": {},
   "outputs": [],
   "source": [
    "def Xgboost(X_train, y_train,sample_weights=None):\n",
    "    xgb_model=XGBClassifier(objective='multi:softmax', num_class=4, n_jobs=-1, use_label_encoder=False)\n",
    "    xgb_model.fit(X_train, y_train, sample_weight=sample_weights)\n",
    "    return xgb_model"
   ]
  },
  {
   "cell_type": "code",
   "execution_count": 29,
   "id": "37d40d97-24c7-42f4-b62e-f4a66b58233b",
   "metadata": {},
   "outputs": [],
   "source": [
    "def Xgboost_opt(X_train, y_train,sample_weights=None):\n",
    "    X_train=space_optimized(X_train)\n",
    "    y_train=space_optimized(y_train)\n",
    "    xgb_model=XGBClassifier(objective='multi:softmax', num_class=4, n_jobs=-1, use_label_encoder=False)\n",
    "    xgb_model.fit(X_train, y_train, sample_weight=sample_weights)\n",
    "    return xgb_model"
   ]
  },
  {
   "cell_type": "markdown",
   "id": "4595a1f1-9b49-44d0-9893-8e781faf9558",
   "metadata": {},
   "source": [
    "## Model Training"
   ]
  },
  {
   "cell_type": "code",
   "execution_count": 30,
   "id": "319f8d0b-8fdb-4873-ba90-27b32f502591",
   "metadata": {},
   "outputs": [
    {
     "data": {
      "text/plain": [
       "((506527, 46), (506527,))"
      ]
     },
     "execution_count": 30,
     "metadata": {},
     "output_type": "execute_result"
    }
   ],
   "source": [
    "X=df1.iloc[:,:-1].values\n",
    "y=df1.iloc[:,-1].values\n",
    "X_train, X_test, y_train, y_test = train_test_split(X, y, test_size=0.50, random_state=42, stratify=y)\n",
    "\n",
    "X_train.shape, y_test.shape"
   ]
  },
  {
   "cell_type": "code",
   "execution_count": 31,
   "id": "6f372c08-f2f4-4b9a-af90-0c738fb5ddc2",
   "metadata": {},
   "outputs": [
    {
     "data": {
      "text/plain": [
       "0\n",
       "0    374772\n",
       "1     89900\n",
       "2     29617\n",
       "3     12238\n",
       "Name: count, dtype: int64"
      ]
     },
     "execution_count": 31,
     "metadata": {},
     "output_type": "execute_result"
    }
   ],
   "source": [
    "pd.DataFrame(y_train).value_counts()"
   ]
  },
  {
   "cell_type": "code",
   "execution_count": 32,
   "id": "65c6cfa0-e0b8-4736-8c67-c4176a2e33c2",
   "metadata": {},
   "outputs": [
    {
     "data": {
      "text/plain": [
       "0\n",
       "0    374772\n",
       "1     89901\n",
       "2     29616\n",
       "3     12238\n",
       "Name: count, dtype: int64"
      ]
     },
     "execution_count": 32,
     "metadata": {},
     "output_type": "execute_result"
    }
   ],
   "source": [
    "pd.DataFrame(y_test).value_counts()"
   ]
  },
  {
   "cell_type": "code",
   "execution_count": 33,
   "id": "bcfb7e4b-c720-4426-b24f-d393eb621e4f",
   "metadata": {},
   "outputs": [],
   "source": [
    "def generate_classification_report(model, X_test, y_test):\n",
    "    start_t=time.time()\n",
    "    y_pred = model.predict(X_test)\n",
    "    end_t=time.time()\n",
    "    report = classification_report(y_test, y_pred)\n",
    "    print(report)\n",
    "    print(f\"Time taken for model to predict is {end_t-start_t}\")"
   ]
  },
  {
   "cell_type": "code",
   "execution_count": 34,
   "id": "ab491c35-58c8-4ac2-b630-a15b64aa0079",
   "metadata": {},
   "outputs": [],
   "source": [
    "def generate_classification_report_opt(model, X_test, y_test):\n",
    "    global pca\n",
    "    global sc\n",
    "    scaled_data=sc.transform(X_test)\n",
    "    scaled_data=scaled_data.astype('float16')\n",
    "    pca_op=pca.transform(scaled_data)\n",
    "    pca_x_train=pd.DataFrame(data=pca_op)\n",
    "    y_test=y_test.astype('int8')\n",
    "    start_t=time.time()\n",
    "    y_pred = model.predict(pca_x_train)\n",
    "    end_t=time.time()\n",
    "    report = classification_report(y_test,y_pred)\n",
    "    print(report)\n",
    "    print(f\"Time taken for model to predict is {end_t-start_t}\")"
   ]
  },
  {
   "cell_type": "code",
   "execution_count": 36,
   "id": "1073a9b4-c2ff-4c60-aa8b-ff3bb74dca41",
   "metadata": {},
   "outputs": [],
   "source": [
    "def generate_classification_report_opt_tf(model, X_test, y_test):\n",
    "    global pca\n",
    "    global sc\n",
    "    scaled_data=sc.transform(X_test)\n",
    "    scaled_data=scaled_data.astype('float16')\n",
    "    pca_op=pca.transform(scaled_data)\n",
    "    pca_x_train=pd.DataFrame(data=pca_op)\n",
    "    y_test=y_test.astype('int8')\n",
    "    start_t=time.time()\n",
    "    y_pred_probs = model.predict(pca_x_train)\n",
    "    end_t=time.time()\n",
    "    y_pred = np.argmax(y_pred_probs, axis=1)\n",
    "    report = classification_report(y_test,y_pred)\n",
    "    print(report)\n",
    "    print(f\"Time taken for model to predict is {end_t-start_t}\")"
   ]
  },
  {
   "cell_type": "code",
   "execution_count": 37,
   "id": "1458656f-bdeb-414f-acab-d265cc2c2efa",
   "metadata": {},
   "outputs": [],
   "source": [
    "def generate_classification_report_tf(model, X_test, y_test):\n",
    "    global sc_ann\n",
    "    scaled_data=sc_ann.transform(X_test)\n",
    "    start_t=time.time()\n",
    "    y_pred_probs = model.predict(scaled_data)\n",
    "    end_t=time.time()\n",
    "    y_pred = np.argmax(y_pred_probs, axis=1)\n",
    "    report = classification_report(y_test,y_pred)\n",
    "    print(report)\n",
    "    print(f\"Time taken for model to predict is {end_t-start_t}\")"
   ]
  },
  {
   "cell_type": "code",
   "execution_count": 38,
   "id": "71dcc1b4-3461-4616-81ef-e1b3d1f3b825",
   "metadata": {},
   "outputs": [
    {
     "data": {
      "text/plain": [
       "{0: 0.338, 1: 1.408, 2: 4.277, 3: 10.34}"
      ]
     },
     "execution_count": 38,
     "metadata": {},
     "output_type": "execute_result"
    }
   ],
   "source": [
    "from sklearn.utils.class_weight import compute_class_weight\n",
    "\n",
    "def compute_class_weights(y_train):\n",
    "    if isinstance(y_train, pd.Series):\n",
    "        y_train = y_train.to_numpy()\n",
    "    \n",
    "    classes = np.unique(y_train)\n",
    "    weights = compute_class_weight(class_weight='balanced', classes=classes, y=y_train)\n",
    "    class_weights = dict(zip(classes, weights.astype('float16')))\n",
    "    \n",
    "    return class_weights\n",
    "\n",
    "class_weights=compute_class_weights(y)\n",
    "class_weights"
   ]
  },
  {
   "cell_type": "code",
   "execution_count": 39,
   "id": "d5830c81-5f1c-4a5b-b056-85d7ceff5ca0",
   "metadata": {},
   "outputs": [
    {
     "name": "stderr",
     "output_type": "stream",
     "text": [
      "[Parallel(n_jobs=-1)]: Using backend ThreadingBackend with 12 concurrent workers.\n",
      "[Parallel(n_jobs=-1)]: Done  26 tasks      | elapsed:    9.0s\n",
      "[Parallel(n_jobs=-1)]: Done 100 out of 100 | elapsed:   26.6s finished\n"
     ]
    }
   ],
   "source": [
    "rf_model=random_forest(X_train,y_train,class_weight=class_weights)"
   ]
  },
  {
   "cell_type": "code",
   "execution_count": 40,
   "id": "fac41a0f-5f39-4db6-9b4c-7b0da8872dd7",
   "metadata": {},
   "outputs": [
    {
     "name": "stderr",
     "output_type": "stream",
     "text": [
      "[Parallel(n_jobs=-1)]: Using backend ThreadingBackend with 12 concurrent workers.\n",
      "[Parallel(n_jobs=-1)]: Done  26 tasks      | elapsed:   21.0s\n",
      "[Parallel(n_jobs=-1)]: Done  50 out of  50 | elapsed:   34.3s finished\n"
     ]
    }
   ],
   "source": [
    "rf_model_opt=random_forest_opt(X_train,y_train,class_weight=class_weights)"
   ]
  },
  {
   "cell_type": "code",
   "execution_count": 41,
   "id": "3b438294-cec8-4672-8278-eb7a382838bb",
   "metadata": {},
   "outputs": [
    {
     "name": "stderr",
     "output_type": "stream",
     "text": [
      "[Parallel(n_jobs=12)]: Using backend ThreadingBackend with 12 concurrent workers.\n",
      "[Parallel(n_jobs=12)]: Done  26 tasks      | elapsed:    0.3s\n",
      "[Parallel(n_jobs=12)]: Done 100 out of 100 | elapsed:    1.2s finished\n"
     ]
    },
    {
     "name": "stdout",
     "output_type": "stream",
     "text": [
      "              precision    recall  f1-score   support\n",
      "\n",
      "           0       1.00      1.00      1.00    374772\n",
      "           1       1.00      1.00      1.00     89901\n",
      "           2       1.00      1.00      1.00     29616\n",
      "           3       1.00      1.00      1.00     12238\n",
      "\n",
      "    accuracy                           1.00    506527\n",
      "   macro avg       1.00      1.00      1.00    506527\n",
      "weighted avg       1.00      1.00      1.00    506527\n",
      "\n",
      "Time taken for model to predict is 1.4198520183563232\n"
     ]
    }
   ],
   "source": [
    "generate_classification_report(rf_model, X_test, y_test)"
   ]
  },
  {
   "cell_type": "code",
   "execution_count": 42,
   "id": "1194579c-0c64-4835-b903-ca294ae142c2",
   "metadata": {},
   "outputs": [
    {
     "name": "stderr",
     "output_type": "stream",
     "text": [
      "[Parallel(n_jobs=12)]: Using backend ThreadingBackend with 12 concurrent workers.\n",
      "[Parallel(n_jobs=12)]: Done  26 tasks      | elapsed:    0.4s\n",
      "[Parallel(n_jobs=12)]: Done  50 out of  50 | elapsed:    0.7s finished\n"
     ]
    },
    {
     "name": "stdout",
     "output_type": "stream",
     "text": [
      "              precision    recall  f1-score   support\n",
      "\n",
      "           0       0.98      0.99      0.98    374772\n",
      "           1       0.95      0.91      0.93     89901\n",
      "           2       1.00      0.99      1.00     29616\n",
      "           3       1.00      1.00      1.00     12238\n",
      "\n",
      "    accuracy                           0.98    506527\n",
      "   macro avg       0.98      0.97      0.98    506527\n",
      "weighted avg       0.98      0.98      0.98    506527\n",
      "\n",
      "Time taken for model to predict is 0.9143447875976562\n"
     ]
    }
   ],
   "source": [
    "generate_classification_report_opt(rf_model_opt, X_test, y_test)"
   ]
  },
  {
   "cell_type": "code",
   "execution_count": 43,
   "id": "7324abd0-2a80-4526-9b43-9e5170300636",
   "metadata": {},
   "outputs": [
    {
     "data": {
      "text/plain": [
       "array([0.338, 0.338, 0.338, ..., 1.408, 0.338, 1.408], dtype=float16)"
      ]
     },
     "execution_count": 43,
     "metadata": {},
     "output_type": "execute_result"
    }
   ],
   "source": [
    "sample_weights = np.array([class_weights[class_label] for class_label in y_train])\n",
    "sample_weights"
   ]
  },
  {
   "cell_type": "code",
   "execution_count": 44,
   "id": "95a92eaa-047f-4f47-a9f1-4883ee4281a4",
   "metadata": {},
   "outputs": [
    {
     "name": "stderr",
     "output_type": "stream",
     "text": [
      "C:\\Users\\91821\\OneDrive\\Documents\\8th sem\\major_prj_code\\ddos_simulator\\venv\\Lib\\site-packages\\xgboost\\training.py:183: UserWarning: [21:01:36] WARNING: C:\\actions-runner\\_work\\xgboost\\xgboost\\src\\learner.cc:738: \n",
      "Parameters: { \"use_label_encoder\" } are not used.\n",
      "\n",
      "  bst.update(dtrain, iteration=i, fobj=obj)\n"
     ]
    }
   ],
   "source": [
    "xbg_model=Xgboost(X_train, y_train,sample_weights=sample_weights)"
   ]
  },
  {
   "cell_type": "code",
   "execution_count": 45,
   "id": "be89ab73-8e19-4cd1-9f57-a459c144fbd8",
   "metadata": {},
   "outputs": [
    {
     "name": "stderr",
     "output_type": "stream",
     "text": [
      "C:\\Users\\91821\\OneDrive\\Documents\\8th sem\\major_prj_code\\ddos_simulator\\venv\\Lib\\site-packages\\xgboost\\training.py:183: UserWarning: [21:01:49] WARNING: C:\\actions-runner\\_work\\xgboost\\xgboost\\src\\learner.cc:738: \n",
      "Parameters: { \"use_label_encoder\" } are not used.\n",
      "\n",
      "  bst.update(dtrain, iteration=i, fobj=obj)\n"
     ]
    }
   ],
   "source": [
    "xbg_model_opt=Xgboost_opt(X_train, y_train,sample_weights=sample_weights)"
   ]
  },
  {
   "cell_type": "code",
   "execution_count": 46,
   "id": "32c102ce-4686-4cd4-af3d-a0eaeaf9b967",
   "metadata": {},
   "outputs": [
    {
     "name": "stdout",
     "output_type": "stream",
     "text": [
      "              precision    recall  f1-score   support\n",
      "\n",
      "           0       1.00      1.00      1.00    374772\n",
      "           1       1.00      1.00      1.00     89901\n",
      "           2       1.00      1.00      1.00     29616\n",
      "           3       1.00      1.00      1.00     12238\n",
      "\n",
      "    accuracy                           1.00    506527\n",
      "   macro avg       1.00      1.00      1.00    506527\n",
      "weighted avg       1.00      1.00      1.00    506527\n",
      "\n",
      "Time taken for model to predict is 0.6873476505279541\n"
     ]
    }
   ],
   "source": [
    "generate_classification_report(xbg_model, X_test, y_test)"
   ]
  },
  {
   "cell_type": "code",
   "execution_count": 47,
   "id": "1eab1df3-ba19-46df-9010-af10ede5e116",
   "metadata": {},
   "outputs": [
    {
     "name": "stdout",
     "output_type": "stream",
     "text": [
      "              precision    recall  f1-score   support\n",
      "\n",
      "           0       0.99      0.95      0.97    374772\n",
      "           1       0.81      0.97      0.88     89901\n",
      "           2       0.99      1.00      1.00     29616\n",
      "           3       1.00      1.00      1.00     12238\n",
      "\n",
      "    accuracy                           0.95    506527\n",
      "   macro avg       0.95      0.98      0.96    506527\n",
      "weighted avg       0.96      0.95      0.96    506527\n",
      "\n",
      "Time taken for model to predict is 0.8735766410827637\n"
     ]
    }
   ],
   "source": [
    "generate_classification_report_opt(xbg_model_opt, X_test, y_test)"
   ]
  },
  {
   "cell_type": "code",
   "execution_count": 48,
   "id": "d5855f75-a45f-4f4d-8903-466dee3f21e4",
   "metadata": {},
   "outputs": [],
   "source": [
    "import joblib"
   ]
  },
  {
   "cell_type": "code",
   "execution_count": 49,
   "id": "9e7f8997-9606-4ae1-a440-525f1738941c",
   "metadata": {},
   "outputs": [
    {
     "data": {
      "text/plain": [
       "['xgb_model.pkl']"
      ]
     },
     "execution_count": 49,
     "metadata": {},
     "output_type": "execute_result"
    }
   ],
   "source": [
    "joblib.dump(rf_model, \"rf_model.pkl\")\n",
    "joblib.dump(xbg_model, \"xgb_model.pkl\")"
   ]
  },
  {
   "cell_type": "code",
   "execution_count": null,
   "id": "1ffdb495-3bcb-4011-bd0d-1e6503db2fb7",
   "metadata": {},
   "outputs": [],
   "source": []
  }
 ],
 "metadata": {
  "kernelspec": {
   "display_name": "Python 3 (ipykernel)",
   "language": "python",
   "name": "python3"
  },
  "language_info": {
   "codemirror_mode": {
    "name": "ipython",
    "version": 3
   },
   "file_extension": ".py",
   "mimetype": "text/x-python",
   "name": "python",
   "nbconvert_exporter": "python",
   "pygments_lexer": "ipython3",
   "version": "3.11.3"
  }
 },
 "nbformat": 4,
 "nbformat_minor": 5
}
