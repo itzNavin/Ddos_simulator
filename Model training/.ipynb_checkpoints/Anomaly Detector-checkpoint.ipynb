{
 "cells": [
  {
   "cell_type": "markdown",
   "id": "916d8803-fb05-4c0b-ab1d-7c4b8a84fe3b",
   "metadata": {},
   "source": [
    "## Data Preprocessing and Visualization"
   ]
  },
  {
   "cell_type": "code",
   "execution_count": 1,
   "id": "5c6cfde0-61f1-4553-9dc7-8f96238a8782",
   "metadata": {},
   "outputs": [],
   "source": [
    "import numpy as np\n",
    "import pandas as pd\n",
    "import matplotlib.pyplot as plt\n",
    "from sklearn.ensemble import RandomForestClassifier\n",
    "from sklearn.preprocessing import StandardScaler, LabelEncoder, OneHotEncoder\n",
    "from sklearn.model_selection import train_test_split\n",
    "import time"
   ]
  },
  {
   "cell_type": "code",
   "execution_count": 2,
   "id": "66571150-a02c-4ba0-a6f5-39dda458b35b",
   "metadata": {},
   "outputs": [
    {
     "data": {
      "text/html": [
       "<div>\n",
       "<style scoped>\n",
       "    .dataframe tbody tr th:only-of-type {\n",
       "        vertical-align: middle;\n",
       "    }\n",
       "\n",
       "    .dataframe tbody tr th {\n",
       "        vertical-align: top;\n",
       "    }\n",
       "\n",
       "    .dataframe thead th {\n",
       "        text-align: right;\n",
       "    }\n",
       "</style>\n",
       "<table border=\"1\" class=\"dataframe\">\n",
       "  <thead>\n",
       "    <tr style=\"text-align: right;\">\n",
       "      <th></th>\n",
       "      <th>flow_duration</th>\n",
       "      <th>Header_Length</th>\n",
       "      <th>Protocol Type</th>\n",
       "      <th>Duration</th>\n",
       "      <th>Rate</th>\n",
       "      <th>Srate</th>\n",
       "      <th>Drate</th>\n",
       "      <th>fin_flag_number</th>\n",
       "      <th>syn_flag_number</th>\n",
       "      <th>rst_flag_number</th>\n",
       "      <th>...</th>\n",
       "      <th>Std</th>\n",
       "      <th>Tot size</th>\n",
       "      <th>IAT</th>\n",
       "      <th>Number</th>\n",
       "      <th>Magnitue</th>\n",
       "      <th>Radius</th>\n",
       "      <th>Covariance</th>\n",
       "      <th>Variance</th>\n",
       "      <th>Weight</th>\n",
       "      <th>label</th>\n",
       "    </tr>\n",
       "  </thead>\n",
       "  <tbody>\n",
       "    <tr>\n",
       "      <th>0</th>\n",
       "      <td>0.000000</td>\n",
       "      <td>54.00</td>\n",
       "      <td>6.00</td>\n",
       "      <td>64.00</td>\n",
       "      <td>0.329807</td>\n",
       "      <td>0.329807</td>\n",
       "      <td>0.0</td>\n",
       "      <td>1</td>\n",
       "      <td>0</td>\n",
       "      <td>1</td>\n",
       "      <td>...</td>\n",
       "      <td>0.000000</td>\n",
       "      <td>54.00</td>\n",
       "      <td>83343831.92</td>\n",
       "      <td>9.5</td>\n",
       "      <td>10.392305</td>\n",
       "      <td>0.000000</td>\n",
       "      <td>0.000000</td>\n",
       "      <td>0.00</td>\n",
       "      <td>141.55</td>\n",
       "      <td>DDoS-RSTFINFlood</td>\n",
       "    </tr>\n",
       "    <tr>\n",
       "      <th>1</th>\n",
       "      <td>0.000000</td>\n",
       "      <td>57.04</td>\n",
       "      <td>6.33</td>\n",
       "      <td>64.00</td>\n",
       "      <td>4.290556</td>\n",
       "      <td>4.290556</td>\n",
       "      <td>0.0</td>\n",
       "      <td>0</td>\n",
       "      <td>0</td>\n",
       "      <td>0</td>\n",
       "      <td>...</td>\n",
       "      <td>2.822973</td>\n",
       "      <td>57.04</td>\n",
       "      <td>82926067.47</td>\n",
       "      <td>9.5</td>\n",
       "      <td>10.464666</td>\n",
       "      <td>4.010353</td>\n",
       "      <td>160.987842</td>\n",
       "      <td>0.05</td>\n",
       "      <td>141.55</td>\n",
       "      <td>DoS-TCP_Flood</td>\n",
       "    </tr>\n",
       "    <tr>\n",
       "      <th>2</th>\n",
       "      <td>0.000000</td>\n",
       "      <td>0.00</td>\n",
       "      <td>1.00</td>\n",
       "      <td>64.00</td>\n",
       "      <td>33.396799</td>\n",
       "      <td>33.396799</td>\n",
       "      <td>0.0</td>\n",
       "      <td>0</td>\n",
       "      <td>0</td>\n",
       "      <td>0</td>\n",
       "      <td>...</td>\n",
       "      <td>0.000000</td>\n",
       "      <td>42.00</td>\n",
       "      <td>83127993.93</td>\n",
       "      <td>9.5</td>\n",
       "      <td>9.165151</td>\n",
       "      <td>0.000000</td>\n",
       "      <td>0.000000</td>\n",
       "      <td>0.00</td>\n",
       "      <td>141.55</td>\n",
       "      <td>DDoS-ICMP_Flood</td>\n",
       "    </tr>\n",
       "    <tr>\n",
       "      <th>3</th>\n",
       "      <td>0.328175</td>\n",
       "      <td>76175.00</td>\n",
       "      <td>17.00</td>\n",
       "      <td>64.00</td>\n",
       "      <td>4642.133010</td>\n",
       "      <td>4642.133010</td>\n",
       "      <td>0.0</td>\n",
       "      <td>0</td>\n",
       "      <td>0</td>\n",
       "      <td>0</td>\n",
       "      <td>...</td>\n",
       "      <td>0.000000</td>\n",
       "      <td>50.00</td>\n",
       "      <td>83015696.38</td>\n",
       "      <td>9.5</td>\n",
       "      <td>10.000000</td>\n",
       "      <td>0.000000</td>\n",
       "      <td>0.000000</td>\n",
       "      <td>0.00</td>\n",
       "      <td>141.55</td>\n",
       "      <td>DoS-UDP_Flood</td>\n",
       "    </tr>\n",
       "    <tr>\n",
       "      <th>4</th>\n",
       "      <td>0.117320</td>\n",
       "      <td>101.73</td>\n",
       "      <td>6.11</td>\n",
       "      <td>65.91</td>\n",
       "      <td>6.202211</td>\n",
       "      <td>6.202211</td>\n",
       "      <td>0.0</td>\n",
       "      <td>0</td>\n",
       "      <td>1</td>\n",
       "      <td>0</td>\n",
       "      <td>...</td>\n",
       "      <td>23.113111</td>\n",
       "      <td>57.88</td>\n",
       "      <td>82972999.18</td>\n",
       "      <td>9.5</td>\n",
       "      <td>11.346876</td>\n",
       "      <td>32.716243</td>\n",
       "      <td>3016.808286</td>\n",
       "      <td>0.19</td>\n",
       "      <td>141.55</td>\n",
       "      <td>DoS-SYN_Flood</td>\n",
       "    </tr>\n",
       "  </tbody>\n",
       "</table>\n",
       "<p>5 rows × 47 columns</p>\n",
       "</div>"
      ],
      "text/plain": [
       "   flow_duration  Header_Length  Protocol Type  Duration         Rate  \\\n",
       "0       0.000000          54.00           6.00     64.00     0.329807   \n",
       "1       0.000000          57.04           6.33     64.00     4.290556   \n",
       "2       0.000000           0.00           1.00     64.00    33.396799   \n",
       "3       0.328175       76175.00          17.00     64.00  4642.133010   \n",
       "4       0.117320         101.73           6.11     65.91     6.202211   \n",
       "\n",
       "         Srate  Drate  fin_flag_number  syn_flag_number  rst_flag_number  ...  \\\n",
       "0     0.329807    0.0                1                0                1  ...   \n",
       "1     4.290556    0.0                0                0                0  ...   \n",
       "2    33.396799    0.0                0                0                0  ...   \n",
       "3  4642.133010    0.0                0                0                0  ...   \n",
       "4     6.202211    0.0                0                1                0  ...   \n",
       "\n",
       "         Std  Tot size          IAT  Number   Magnitue     Radius  \\\n",
       "0   0.000000     54.00  83343831.92     9.5  10.392305   0.000000   \n",
       "1   2.822973     57.04  82926067.47     9.5  10.464666   4.010353   \n",
       "2   0.000000     42.00  83127993.93     9.5   9.165151   0.000000   \n",
       "3   0.000000     50.00  83015696.38     9.5  10.000000   0.000000   \n",
       "4  23.113111     57.88  82972999.18     9.5  11.346876  32.716243   \n",
       "\n",
       "    Covariance  Variance  Weight             label  \n",
       "0     0.000000      0.00  141.55  DDoS-RSTFINFlood  \n",
       "1   160.987842      0.05  141.55     DoS-TCP_Flood  \n",
       "2     0.000000      0.00  141.55   DDoS-ICMP_Flood  \n",
       "3     0.000000      0.00  141.55     DoS-UDP_Flood  \n",
       "4  3016.808286      0.19  141.55     DoS-SYN_Flood  \n",
       "\n",
       "[5 rows x 47 columns]"
      ]
     },
     "execution_count": 2,
     "metadata": {},
     "output_type": "execute_result"
    }
   ],
   "source": [
    "df=pd.read_csv('IoT_Intrusion.csv')\n",
    "df.head()"
   ]
  },
  {
   "cell_type": "code",
   "execution_count": 3,
   "id": "c77b6c76-7d40-465f-bebe-32d010b68647",
   "metadata": {},
   "outputs": [
    {
     "data": {
      "text/plain": [
       "label\n",
       "DDoS-ICMP_Flood            161281\n",
       "DDoS-UDP_Flood             121205\n",
       "DDoS-TCP_Flood             101293\n",
       "DDoS-PSHACK_Flood           92395\n",
       "DDoS-SYN_Flood              91644\n",
       "DDoS-RSTFINFlood            90823\n",
       "DDoS-SynonymousIP_Flood     80680\n",
       "DoS-UDP_Flood               74787\n",
       "DoS-TCP_Flood               59807\n",
       "DoS-SYN_Flood               45207\n",
       "BenignTraffic               24476\n",
       "Mirai-greeth_flood          22115\n",
       "Mirai-udpplain              20166\n",
       "Mirai-greip_flood           16952\n",
       "DDoS-ICMP_Fragmentation     10223\n",
       "MITM-ArpSpoofing             7019\n",
       "DDoS-ACK_Fragmentation       6431\n",
       "DDoS-UDP_Fragmentation       6431\n",
       "DNS_Spoofing                 4034\n",
       "Recon-HostDiscovery          3007\n",
       "Recon-OSScan                 2225\n",
       "Recon-PortScan               1863\n",
       "DoS-HTTP_Flood               1680\n",
       "VulnerabilityScan             809\n",
       "DDoS-HTTP_Flood               626\n",
       "DDoS-SlowLoris                493\n",
       "DictionaryBruteForce          324\n",
       "BrowserHijacking              140\n",
       "SqlInjection                  122\n",
       "CommandInjection              105\n",
       "Backdoor_Malware               76\n",
       "XSS                            72\n",
       "Recon-PingSweep                41\n",
       "Uploading_Attack               23\n",
       "Name: count, dtype: int64"
      ]
     },
     "execution_count": 3,
     "metadata": {},
     "output_type": "execute_result"
    }
   ],
   "source": [
    "label_count=df['label'].value_counts()\n",
    "label_count"
   ]
  },
  {
   "cell_type": "code",
   "execution_count": 4,
   "id": "388e5975-f119-4811-8cee-05976f0c170f",
   "metadata": {},
   "outputs": [],
   "source": [
    "label_list=label_count.index"
   ]
  },
  {
   "cell_type": "code",
   "execution_count": 5,
   "id": "01d21208-cd68-4369-940f-fe05da926e04",
   "metadata": {},
   "outputs": [
    {
     "data": {
      "text/plain": [
       "['DDoS-ICMP_Flood',\n",
       " 'DDoS-UDP_Flood',\n",
       " 'DDoS-TCP_Flood',\n",
       " 'DDoS-PSHACK_Flood',\n",
       " 'DDoS-SYN_Flood',\n",
       " 'DDoS-RSTFINFlood',\n",
       " 'DDoS-SynonymousIP_Flood',\n",
       " 'DoS-UDP_Flood',\n",
       " 'DoS-TCP_Flood',\n",
       " 'DoS-SYN_Flood',\n",
       " 'BenignTraffic',\n",
       " 'Mirai-greeth_flood',\n",
       " 'Mirai-udpplain',\n",
       " 'Mirai-greip_flood',\n",
       " 'DDoS-ICMP_Fragmentation']"
      ]
     },
     "execution_count": 5,
     "metadata": {},
     "output_type": "execute_result"
    }
   ],
   "source": [
    "final_label_list=[]\n",
    "for x in label_list:\n",
    "    if 'DoS' in x and label_count[x]>10000:\n",
    "        final_label_list.append(x)\n",
    "    elif 'Benign' in x:\n",
    "        final_label_list.append(x)\n",
    "    elif 'Mirai' in x:\n",
    "        final_label_list.append(x)\n",
    "\n",
    "final_label_list"
   ]
  },
  {
   "cell_type": "code",
   "execution_count": 6,
   "id": "f42f9998-3b73-4acc-83d7-db2cc69c7dcd",
   "metadata": {},
   "outputs": [
    {
     "data": {
      "text/html": [
       "<div>\n",
       "<style scoped>\n",
       "    .dataframe tbody tr th:only-of-type {\n",
       "        vertical-align: middle;\n",
       "    }\n",
       "\n",
       "    .dataframe tbody tr th {\n",
       "        vertical-align: top;\n",
       "    }\n",
       "\n",
       "    .dataframe thead th {\n",
       "        text-align: right;\n",
       "    }\n",
       "</style>\n",
       "<table border=\"1\" class=\"dataframe\">\n",
       "  <thead>\n",
       "    <tr style=\"text-align: right;\">\n",
       "      <th></th>\n",
       "      <th>flow_duration</th>\n",
       "      <th>Header_Length</th>\n",
       "      <th>Protocol Type</th>\n",
       "      <th>Duration</th>\n",
       "      <th>Rate</th>\n",
       "      <th>Srate</th>\n",
       "      <th>Drate</th>\n",
       "      <th>fin_flag_number</th>\n",
       "      <th>syn_flag_number</th>\n",
       "      <th>rst_flag_number</th>\n",
       "      <th>...</th>\n",
       "      <th>Std</th>\n",
       "      <th>Tot size</th>\n",
       "      <th>IAT</th>\n",
       "      <th>Number</th>\n",
       "      <th>Magnitue</th>\n",
       "      <th>Radius</th>\n",
       "      <th>Covariance</th>\n",
       "      <th>Variance</th>\n",
       "      <th>Weight</th>\n",
       "      <th>label</th>\n",
       "    </tr>\n",
       "  </thead>\n",
       "  <tbody>\n",
       "    <tr>\n",
       "      <th>0</th>\n",
       "      <td>0.000000</td>\n",
       "      <td>54.00</td>\n",
       "      <td>6.00</td>\n",
       "      <td>64.00</td>\n",
       "      <td>0.329807</td>\n",
       "      <td>0.329807</td>\n",
       "      <td>0.0</td>\n",
       "      <td>1</td>\n",
       "      <td>0</td>\n",
       "      <td>1</td>\n",
       "      <td>...</td>\n",
       "      <td>0.000000</td>\n",
       "      <td>54.00</td>\n",
       "      <td>83343831.92</td>\n",
       "      <td>9.5</td>\n",
       "      <td>10.392305</td>\n",
       "      <td>0.000000</td>\n",
       "      <td>0.000000</td>\n",
       "      <td>0.00</td>\n",
       "      <td>141.55</td>\n",
       "      <td>DDoS-RSTFINFlood</td>\n",
       "    </tr>\n",
       "    <tr>\n",
       "      <th>1</th>\n",
       "      <td>0.000000</td>\n",
       "      <td>57.04</td>\n",
       "      <td>6.33</td>\n",
       "      <td>64.00</td>\n",
       "      <td>4.290556</td>\n",
       "      <td>4.290556</td>\n",
       "      <td>0.0</td>\n",
       "      <td>0</td>\n",
       "      <td>0</td>\n",
       "      <td>0</td>\n",
       "      <td>...</td>\n",
       "      <td>2.822973</td>\n",
       "      <td>57.04</td>\n",
       "      <td>82926067.47</td>\n",
       "      <td>9.5</td>\n",
       "      <td>10.464666</td>\n",
       "      <td>4.010353</td>\n",
       "      <td>160.987842</td>\n",
       "      <td>0.05</td>\n",
       "      <td>141.55</td>\n",
       "      <td>DoS-TCP_Flood</td>\n",
       "    </tr>\n",
       "    <tr>\n",
       "      <th>2</th>\n",
       "      <td>0.000000</td>\n",
       "      <td>0.00</td>\n",
       "      <td>1.00</td>\n",
       "      <td>64.00</td>\n",
       "      <td>33.396799</td>\n",
       "      <td>33.396799</td>\n",
       "      <td>0.0</td>\n",
       "      <td>0</td>\n",
       "      <td>0</td>\n",
       "      <td>0</td>\n",
       "      <td>...</td>\n",
       "      <td>0.000000</td>\n",
       "      <td>42.00</td>\n",
       "      <td>83127993.93</td>\n",
       "      <td>9.5</td>\n",
       "      <td>9.165151</td>\n",
       "      <td>0.000000</td>\n",
       "      <td>0.000000</td>\n",
       "      <td>0.00</td>\n",
       "      <td>141.55</td>\n",
       "      <td>DDoS-ICMP_Flood</td>\n",
       "    </tr>\n",
       "    <tr>\n",
       "      <th>3</th>\n",
       "      <td>0.328175</td>\n",
       "      <td>76175.00</td>\n",
       "      <td>17.00</td>\n",
       "      <td>64.00</td>\n",
       "      <td>4642.133010</td>\n",
       "      <td>4642.133010</td>\n",
       "      <td>0.0</td>\n",
       "      <td>0</td>\n",
       "      <td>0</td>\n",
       "      <td>0</td>\n",
       "      <td>...</td>\n",
       "      <td>0.000000</td>\n",
       "      <td>50.00</td>\n",
       "      <td>83015696.38</td>\n",
       "      <td>9.5</td>\n",
       "      <td>10.000000</td>\n",
       "      <td>0.000000</td>\n",
       "      <td>0.000000</td>\n",
       "      <td>0.00</td>\n",
       "      <td>141.55</td>\n",
       "      <td>DoS-UDP_Flood</td>\n",
       "    </tr>\n",
       "    <tr>\n",
       "      <th>4</th>\n",
       "      <td>0.117320</td>\n",
       "      <td>101.73</td>\n",
       "      <td>6.11</td>\n",
       "      <td>65.91</td>\n",
       "      <td>6.202211</td>\n",
       "      <td>6.202211</td>\n",
       "      <td>0.0</td>\n",
       "      <td>0</td>\n",
       "      <td>1</td>\n",
       "      <td>0</td>\n",
       "      <td>...</td>\n",
       "      <td>23.113111</td>\n",
       "      <td>57.88</td>\n",
       "      <td>82972999.18</td>\n",
       "      <td>9.5</td>\n",
       "      <td>11.346876</td>\n",
       "      <td>32.716243</td>\n",
       "      <td>3016.808286</td>\n",
       "      <td>0.19</td>\n",
       "      <td>141.55</td>\n",
       "      <td>DoS-SYN_Flood</td>\n",
       "    </tr>\n",
       "  </tbody>\n",
       "</table>\n",
       "<p>5 rows × 47 columns</p>\n",
       "</div>"
      ],
      "text/plain": [
       "   flow_duration  Header_Length  Protocol Type  Duration         Rate  \\\n",
       "0       0.000000          54.00           6.00     64.00     0.329807   \n",
       "1       0.000000          57.04           6.33     64.00     4.290556   \n",
       "2       0.000000           0.00           1.00     64.00    33.396799   \n",
       "3       0.328175       76175.00          17.00     64.00  4642.133010   \n",
       "4       0.117320         101.73           6.11     65.91     6.202211   \n",
       "\n",
       "         Srate  Drate  fin_flag_number  syn_flag_number  rst_flag_number  ...  \\\n",
       "0     0.329807    0.0                1                0                1  ...   \n",
       "1     4.290556    0.0                0                0                0  ...   \n",
       "2    33.396799    0.0                0                0                0  ...   \n",
       "3  4642.133010    0.0                0                0                0  ...   \n",
       "4     6.202211    0.0                0                1                0  ...   \n",
       "\n",
       "         Std  Tot size          IAT  Number   Magnitue     Radius  \\\n",
       "0   0.000000     54.00  83343831.92     9.5  10.392305   0.000000   \n",
       "1   2.822973     57.04  82926067.47     9.5  10.464666   4.010353   \n",
       "2   0.000000     42.00  83127993.93     9.5   9.165151   0.000000   \n",
       "3   0.000000     50.00  83015696.38     9.5  10.000000   0.000000   \n",
       "4  23.113111     57.88  82972999.18     9.5  11.346876  32.716243   \n",
       "\n",
       "    Covariance  Variance  Weight             label  \n",
       "0     0.000000      0.00  141.55  DDoS-RSTFINFlood  \n",
       "1   160.987842      0.05  141.55     DoS-TCP_Flood  \n",
       "2     0.000000      0.00  141.55   DDoS-ICMP_Flood  \n",
       "3     0.000000      0.00  141.55     DoS-UDP_Flood  \n",
       "4  3016.808286      0.19  141.55     DoS-SYN_Flood  \n",
       "\n",
       "[5 rows x 47 columns]"
      ]
     },
     "execution_count": 6,
     "metadata": {},
     "output_type": "execute_result"
    }
   ],
   "source": [
    "df1=df[df['label'].isin(final_label_list)].copy()\n",
    "df1.head()"
   ]
  },
  {
   "cell_type": "code",
   "execution_count": 7,
   "id": "d6fbefce-43ad-43fc-9817-3837c8bb3fc9",
   "metadata": {},
   "outputs": [
    {
     "data": {
      "text/plain": [
       "label\n",
       "DDoS-ICMP_Flood            161281\n",
       "DDoS-UDP_Flood             121205\n",
       "DDoS-TCP_Flood             101293\n",
       "DDoS-PSHACK_Flood           92395\n",
       "DDoS-SYN_Flood              91644\n",
       "DDoS-RSTFINFlood            90823\n",
       "DDoS-SynonymousIP_Flood     80680\n",
       "DoS-UDP_Flood               74787\n",
       "DoS-TCP_Flood               59807\n",
       "DoS-SYN_Flood               45207\n",
       "BenignTraffic               24476\n",
       "Mirai-greeth_flood          22115\n",
       "Mirai-udpplain              20166\n",
       "Mirai-greip_flood           16952\n",
       "DDoS-ICMP_Fragmentation     10223\n",
       "Name: count, dtype: int64"
      ]
     },
     "execution_count": 7,
     "metadata": {},
     "output_type": "execute_result"
    }
   ],
   "source": [
    "df1['label'].value_counts()"
   ]
  },
  {
   "cell_type": "code",
   "execution_count": 8,
   "id": "9bb7318b-8ec8-4694-a644-51370735ee04",
   "metadata": {},
   "outputs": [
    {
     "data": {
      "text/plain": [
       "{'DDoS-ICMP_Flood': 'Attack',\n",
       " 'DDoS-UDP_Flood': 'Attack',\n",
       " 'DDoS-TCP_Flood': 'Attack',\n",
       " 'DDoS-PSHACK_Flood': 'Attack',\n",
       " 'DDoS-SYN_Flood': 'Attack',\n",
       " 'DDoS-RSTFINFlood': 'Attack',\n",
       " 'DDoS-SynonymousIP_Flood': 'Attack',\n",
       " 'DoS-UDP_Flood': 'Attack',\n",
       " 'DoS-TCP_Flood': 'Attack',\n",
       " 'DoS-SYN_Flood': 'Attack',\n",
       " 'BenignTraffic': 'Benign',\n",
       " 'Mirai-greeth_flood': 'Attack',\n",
       " 'Mirai-udpplain': 'Attack',\n",
       " 'Mirai-greip_flood': 'Attack',\n",
       " 'DDoS-ICMP_Fragmentation': 'Attack'}"
      ]
     },
     "execution_count": 8,
     "metadata": {},
     "output_type": "execute_result"
    }
   ],
   "source": [
    "label_rename={}\n",
    "for x in final_label_list:\n",
    "    if 'DDoS' in x:\n",
    "        label_rename[x]='Attack'\n",
    "    elif 'DoS' in x:\n",
    "        label_rename[x]='Attack'\n",
    "    elif 'Mirai' in x:\n",
    "        label_rename[x]='Attack'\n",
    "    else:\n",
    "        label_rename[x]='Benign'\n",
    "label_rename"
   ]
  },
  {
   "cell_type": "code",
   "execution_count": 9,
   "id": "5dc87ca0-c67b-4d8d-bebc-1c8ae5ebcda2",
   "metadata": {},
   "outputs": [],
   "source": [
    "df1['label'] = df1['label'].replace(label_rename)"
   ]
  },
  {
   "cell_type": "code",
   "execution_count": 10,
   "id": "b719d5ef-b60a-451a-b6af-d20dc231a723",
   "metadata": {},
   "outputs": [
    {
     "data": {
      "text/plain": [
       "(label\n",
       " Attack    988578\n",
       " Benign     24476\n",
       " Name: count, dtype: int64,\n",
       " 'Benign')"
      ]
     },
     "execution_count": 10,
     "metadata": {},
     "output_type": "execute_result"
    }
   ],
   "source": [
    "label_count=df1['label'].value_counts()\n",
    "label_count,label_count.index[1]"
   ]
  },
  {
   "cell_type": "code",
   "execution_count": 11,
   "id": "116cd323-d33c-4f8a-ae7b-1e3c4433bd4a",
   "metadata": {},
   "outputs": [
    {
     "data": {
      "text/plain": [
       "{'Attack': 0, 'Benign': 1}"
      ]
     },
     "execution_count": 11,
     "metadata": {},
     "output_type": "execute_result"
    }
   ],
   "source": [
    "label_mapping={label_count.index[i]:i for i in range(2)}\n",
    "label_mapping"
   ]
  },
  {
   "cell_type": "code",
   "execution_count": 12,
   "id": "1e4f9c90-98f8-49bf-be93-380b4dfa7569",
   "metadata": {},
   "outputs": [
    {
     "name": "stderr",
     "output_type": "stream",
     "text": [
      "C:\\Users\\91821\\AppData\\Local\\Temp\\ipykernel_15872\\410992584.py:1: FutureWarning: Downcasting behavior in `replace` is deprecated and will be removed in a future version. To retain the old behavior, explicitly call `result.infer_objects(copy=False)`. To opt-in to the future behavior, set `pd.set_option('future.no_silent_downcasting', True)`\n",
      "  df1['label'] = df1['label'].replace(label_mapping)\n"
     ]
    },
    {
     "data": {
      "text/html": [
       "<div>\n",
       "<style scoped>\n",
       "    .dataframe tbody tr th:only-of-type {\n",
       "        vertical-align: middle;\n",
       "    }\n",
       "\n",
       "    .dataframe tbody tr th {\n",
       "        vertical-align: top;\n",
       "    }\n",
       "\n",
       "    .dataframe thead th {\n",
       "        text-align: right;\n",
       "    }\n",
       "</style>\n",
       "<table border=\"1\" class=\"dataframe\">\n",
       "  <thead>\n",
       "    <tr style=\"text-align: right;\">\n",
       "      <th></th>\n",
       "      <th>flow_duration</th>\n",
       "      <th>Header_Length</th>\n",
       "      <th>Protocol Type</th>\n",
       "      <th>Duration</th>\n",
       "      <th>Rate</th>\n",
       "      <th>Srate</th>\n",
       "      <th>Drate</th>\n",
       "      <th>fin_flag_number</th>\n",
       "      <th>syn_flag_number</th>\n",
       "      <th>rst_flag_number</th>\n",
       "      <th>...</th>\n",
       "      <th>Std</th>\n",
       "      <th>Tot size</th>\n",
       "      <th>IAT</th>\n",
       "      <th>Number</th>\n",
       "      <th>Magnitue</th>\n",
       "      <th>Radius</th>\n",
       "      <th>Covariance</th>\n",
       "      <th>Variance</th>\n",
       "      <th>Weight</th>\n",
       "      <th>label</th>\n",
       "    </tr>\n",
       "  </thead>\n",
       "  <tbody>\n",
       "    <tr>\n",
       "      <th>748977</th>\n",
       "      <td>0.000000</td>\n",
       "      <td>54.0</td>\n",
       "      <td>6.0</td>\n",
       "      <td>64.0</td>\n",
       "      <td>10.205334</td>\n",
       "      <td>10.205334</td>\n",
       "      <td>0.0</td>\n",
       "      <td>0</td>\n",
       "      <td>0</td>\n",
       "      <td>0</td>\n",
       "      <td>...</td>\n",
       "      <td>0.0</td>\n",
       "      <td>54.0</td>\n",
       "      <td>83068295.88</td>\n",
       "      <td>9.5</td>\n",
       "      <td>10.392305</td>\n",
       "      <td>0.0</td>\n",
       "      <td>0.0</td>\n",
       "      <td>0.0</td>\n",
       "      <td>141.55</td>\n",
       "      <td>0</td>\n",
       "    </tr>\n",
       "    <tr>\n",
       "      <th>925122</th>\n",
       "      <td>6.984738</td>\n",
       "      <td>162.0</td>\n",
       "      <td>6.0</td>\n",
       "      <td>64.0</td>\n",
       "      <td>0.429508</td>\n",
       "      <td>0.429508</td>\n",
       "      <td>0.0</td>\n",
       "      <td>0</td>\n",
       "      <td>1</td>\n",
       "      <td>0</td>\n",
       "      <td>...</td>\n",
       "      <td>0.0</td>\n",
       "      <td>54.0</td>\n",
       "      <td>82972884.09</td>\n",
       "      <td>9.5</td>\n",
       "      <td>10.392305</td>\n",
       "      <td>0.0</td>\n",
       "      <td>0.0</td>\n",
       "      <td>0.0</td>\n",
       "      <td>141.55</td>\n",
       "      <td>0</td>\n",
       "    </tr>\n",
       "    <tr>\n",
       "      <th>570743</th>\n",
       "      <td>0.000000</td>\n",
       "      <td>54.0</td>\n",
       "      <td>6.0</td>\n",
       "      <td>64.0</td>\n",
       "      <td>2.798495</td>\n",
       "      <td>2.798495</td>\n",
       "      <td>0.0</td>\n",
       "      <td>0</td>\n",
       "      <td>0</td>\n",
       "      <td>0</td>\n",
       "      <td>...</td>\n",
       "      <td>0.0</td>\n",
       "      <td>54.0</td>\n",
       "      <td>82951565.76</td>\n",
       "      <td>9.5</td>\n",
       "      <td>10.392305</td>\n",
       "      <td>0.0</td>\n",
       "      <td>0.0</td>\n",
       "      <td>0.0</td>\n",
       "      <td>141.55</td>\n",
       "      <td>0</td>\n",
       "    </tr>\n",
       "    <tr>\n",
       "      <th>78494</th>\n",
       "      <td>0.000000</td>\n",
       "      <td>54.0</td>\n",
       "      <td>6.0</td>\n",
       "      <td>64.0</td>\n",
       "      <td>104.525731</td>\n",
       "      <td>104.525731</td>\n",
       "      <td>0.0</td>\n",
       "      <td>0</td>\n",
       "      <td>1</td>\n",
       "      <td>0</td>\n",
       "      <td>...</td>\n",
       "      <td>0.0</td>\n",
       "      <td>54.0</td>\n",
       "      <td>83487483.92</td>\n",
       "      <td>9.5</td>\n",
       "      <td>10.392305</td>\n",
       "      <td>0.0</td>\n",
       "      <td>0.0</td>\n",
       "      <td>0.0</td>\n",
       "      <td>141.55</td>\n",
       "      <td>0</td>\n",
       "    </tr>\n",
       "    <tr>\n",
       "      <th>187519</th>\n",
       "      <td>0.000000</td>\n",
       "      <td>54.0</td>\n",
       "      <td>6.0</td>\n",
       "      <td>64.0</td>\n",
       "      <td>0.000000</td>\n",
       "      <td>0.000000</td>\n",
       "      <td>0.0</td>\n",
       "      <td>0</td>\n",
       "      <td>0</td>\n",
       "      <td>0</td>\n",
       "      <td>...</td>\n",
       "      <td>0.0</td>\n",
       "      <td>54.0</td>\n",
       "      <td>83067359.12</td>\n",
       "      <td>9.5</td>\n",
       "      <td>10.392305</td>\n",
       "      <td>0.0</td>\n",
       "      <td>0.0</td>\n",
       "      <td>0.0</td>\n",
       "      <td>141.55</td>\n",
       "      <td>0</td>\n",
       "    </tr>\n",
       "  </tbody>\n",
       "</table>\n",
       "<p>5 rows × 47 columns</p>\n",
       "</div>"
      ],
      "text/plain": [
       "        flow_duration  Header_Length  Protocol Type  Duration        Rate  \\\n",
       "748977       0.000000           54.0            6.0      64.0   10.205334   \n",
       "925122       6.984738          162.0            6.0      64.0    0.429508   \n",
       "570743       0.000000           54.0            6.0      64.0    2.798495   \n",
       "78494        0.000000           54.0            6.0      64.0  104.525731   \n",
       "187519       0.000000           54.0            6.0      64.0    0.000000   \n",
       "\n",
       "             Srate  Drate  fin_flag_number  syn_flag_number  rst_flag_number  \\\n",
       "748977   10.205334    0.0                0                0                0   \n",
       "925122    0.429508    0.0                0                1                0   \n",
       "570743    2.798495    0.0                0                0                0   \n",
       "78494   104.525731    0.0                0                1                0   \n",
       "187519    0.000000    0.0                0                0                0   \n",
       "\n",
       "        ...  Std  Tot size          IAT  Number   Magnitue  Radius  \\\n",
       "748977  ...  0.0      54.0  83068295.88     9.5  10.392305     0.0   \n",
       "925122  ...  0.0      54.0  82972884.09     9.5  10.392305     0.0   \n",
       "570743  ...  0.0      54.0  82951565.76     9.5  10.392305     0.0   \n",
       "78494   ...  0.0      54.0  83487483.92     9.5  10.392305     0.0   \n",
       "187519  ...  0.0      54.0  83067359.12     9.5  10.392305     0.0   \n",
       "\n",
       "        Covariance  Variance  Weight  label  \n",
       "748977         0.0       0.0  141.55      0  \n",
       "925122         0.0       0.0  141.55      0  \n",
       "570743         0.0       0.0  141.55      0  \n",
       "78494          0.0       0.0  141.55      0  \n",
       "187519         0.0       0.0  141.55      0  \n",
       "\n",
       "[5 rows x 47 columns]"
      ]
     },
     "execution_count": 12,
     "metadata": {},
     "output_type": "execute_result"
    }
   ],
   "source": [
    "df1['label'] = df1['label'].replace(label_mapping)\n",
    "df1.sample(5)"
   ]
  },
  {
   "cell_type": "code",
   "execution_count": 13,
   "id": "f9a820bf-6a66-444c-8970-78584e6d27ab",
   "metadata": {},
   "outputs": [
    {
     "data": {
      "image/png": "[encoded data removed]",
      "text/plain": [
       "<Figure size 640x480 with 1 Axes>"
      ]
     },
     "metadata": {},
     "output_type": "display_data"
    }
   ],
   "source": [
    "label_count.plot(kind='bar', color='skyblue', edgecolor='black')\n",
    "\n",
    "plt.title('Count of Each Label in Dataset')\n",
    "plt.xlabel('Label')\n",
    "plt.ylabel('Count')\n",
    "\n",
    "plt.show()"
   ]
  },
  {
   "cell_type": "markdown",
   "id": "f25993df-9516-4298-b49d-b977b2138e9b",
   "metadata": {},
   "source": [
    "## Model Building"
   ]
  },
  {
   "cell_type": "code",
   "execution_count": 15,
   "id": "40305bfe-c7b8-482f-8f0f-9cace9bd45d5",
   "metadata": {},
   "outputs": [
    {
     "name": "stdout",
     "output_type": "stream",
     "text": [
      "Requirement already satisfied: torch in c:\\users\\91821\\onedrive\\documents\\8th sem\\major_prj_code\\ddos_simulator\\venv\\lib\\site-packages (2.7.0)\n",
      "Requirement already satisfied: filelock in c:\\users\\91821\\onedrive\\documents\\8th sem\\major_prj_code\\ddos_simulator\\venv\\lib\\site-packages (from torch) (3.18.0)\n",
      "Requirement already satisfied: typing-extensions>=4.10.0 in c:\\users\\91821\\onedrive\\documents\\8th sem\\major_prj_code\\ddos_simulator\\venv\\lib\\site-packages (from torch) (4.13.2)\n",
      "Requirement already satisfied: sympy>=1.13.3 in c:\\users\\91821\\onedrive\\documents\\8th sem\\major_prj_code\\ddos_simulator\\venv\\lib\\site-packages (from torch) (1.14.0)\n",
      "Requirement already satisfied: networkx in c:\\users\\91821\\onedrive\\documents\\8th sem\\major_prj_code\\ddos_simulator\\venv\\lib\\site-packages (from torch) (3.4.2)\n",
      "Requirement already satisfied: jinja2 in c:\\users\\91821\\onedrive\\documents\\8th sem\\major_prj_code\\ddos_simulator\\venv\\lib\\site-packages (from torch) (3.1.6)\n",
      "Requirement already satisfied: fsspec in c:\\users\\91821\\onedrive\\documents\\8th sem\\major_prj_code\\ddos_simulator\\venv\\lib\\site-packages (from torch) (2025.5.1)\n",
      "Requirement already satisfied: mpmath<1.4,>=1.1.0 in c:\\users\\91821\\onedrive\\documents\\8th sem\\major_prj_code\\ddos_simulator\\venv\\lib\\site-packages (from sympy>=1.13.3->torch) (1.3.0)\n",
      "Requirement already satisfied: MarkupSafe>=2.0 in c:\\users\\91821\\onedrive\\documents\\8th sem\\major_prj_code\\ddos_simulator\\venv\\lib\\site-packages (from jinja2->torch) (3.0.2)\n"
     ]
    }
   ],
   "source": [
    "!pip install torch\n"
   ]
  },
  {
   "cell_type": "code",
   "execution_count": 16,
   "id": "7492d02d-75ba-42ac-b2a4-7e02eda84e0f",
   "metadata": {},
   "outputs": [],
   "source": [
    "# Cell 1: Imports\n",
    "import numpy as np\n",
    "import pandas as pd\n",
    "import time\n",
    "\n",
    "from sklearn.metrics import classification_report, accuracy_score, confusion_matrix\n",
    "from sklearn.decomposition import PCA\n",
    "from sklearn.preprocessing import StandardScaler\n",
    "from sklearn.model_selection import train_test_split\n",
    "from sklearn.ensemble import IsolationForest\n",
    "from sklearn.svm import OneClassSVM\n",
    "\n",
    "import torch\n",
    "import torch.nn as nn\n",
    "import torch.optim as optim\n"
   ]
  },
  {
   "cell_type": "markdown",
   "id": "286d89fc-7d5d-4e89-b564-e6619a3c9f38",
   "metadata": {},
   "source": [
    "### 1) Data Loading and Preparation"
   ]
  },
  {
   "cell_type": "code",
   "execution_count": 19,
   "id": "a08e9cda-f4a4-44da-a4d8-337087278675",
   "metadata": {},
   "outputs": [],
   "source": [
    "# Replace this with your actual data loading if needed\n",
    "# Example:\n",
    "# df1 = pd.read_csv('your_data.csv')\n",
    "\n",
    "X = df1.iloc[:, :-1].values\n",
    "y = df1.iloc[:, -1].values\n",
    "\n",
    "X_train, X_test, y_train, y_test = train_test_split(\n",
    "    X, y, test_size=0.50, random_state=42, stratify=y\n",
    ")\n"
   ]
  },
  {
   "cell_type": "code",
   "execution_count": 20,
   "id": "a2dda13c-4990-4a4d-9a07-9e50a5be21c4",
   "metadata": {},
   "outputs": [],
   "source": [
    "sc = StandardScaler()\n",
    "X_train_scaled = sc.fit_transform(X_train)\n",
    "X_test_scaled = sc.transform(X_test)\n",
    "\n",
    "pca = PCA(n_components=0.95)\n",
    "X_train_pca = pca.fit_transform(X_train_scaled)\n",
    "X_test_pca = pca.transform(X_test_scaled)\n"
   ]
  },
  {
   "cell_type": "markdown",
   "id": "53026af3-6d27-43c9-acf5-e67aae55ef0c",
   "metadata": {},
   "source": [
    "### 2) One Class SVM"
   ]
  },
  {
   "cell_type": "code",
   "execution_count": 8,
   "id": "77e93f95-cd29-44d5-8821-97156a85835a",
   "metadata": {},
   "outputs": [],
   "source": [
    "def isolationForest_100(X_train):\n",
    "    iso_forest = IsolationForest(n_estimators=100, n_jobs=-1, random_state=42, contamination=0.024, verbose=1)\n",
    "    iso_forest.fit(X_train)\n",
    "    return iso_forest\n",
    "\n",
    "def isolationForest_50(X_train):\n",
    "    iso_forest = IsolationForest(n_estimators=50, n_jobs=-1, random_state=42, contamination=0.024, verbose=1)\n",
    "    iso_forest.fit(X_train)\n",
    "    return iso_forest\n",
    "\n",
    "def oneClassSvm_rbf(X_train):\n",
    "    oc_svm = OneClassSVM(kernel='rbf', gamma='auto')\n",
    "    oc_svm.fit(X_train)\n",
    "    return oc_svm\n",
    "\n",
    "def oneClassSvm_linear(X_train):\n",
    "    oc_svm = OneClassSVM(kernel='linear', gamma='auto')\n",
    "    oc_svm.fit(X_train)\n",
    "    return oc_svm\n"
   ]
  },
  {
   "cell_type": "code",
   "execution_count": 9,
   "id": "b44941e5-590d-426e-a290-327219acb13b",
   "metadata": {},
   "outputs": [],
   "source": [
    "# def oneClassSvm_rbf(X_train,class_weights=None):\n",
    "#     X_train_pro=data_preprocessing_svm(X_train)\n",
    "#     oc_svm = OneClassSVM(kernel='rbf', gamma='auto')\n",
    "#     oc_svm.fit(X_train_pro)\n",
    "#     return oc_svm"
   ]
  },
  {
   "cell_type": "code",
   "execution_count": 10,
   "id": "80471951-0a5b-4401-8e57-db33084cbf9c",
   "metadata": {},
   "outputs": [],
   "source": [
    "# def oneClassSvm_linear(X_train,class_weights=None):\n",
    "#     X_train_pro=data_preprocessing_svm(X_train)\n",
    "#     oc_svm = OneClassSVM(kernel='linear', gamma='auto')\n",
    "#     oc_svm.fit(X_train_pro)\n",
    "#     return oc_svm"
   ]
  },
  {
   "cell_type": "markdown",
   "id": "a9824970-3b46-4a10-819f-be37602dc93c",
   "metadata": {},
   "source": [
    "### 3) PyTorch Autoencoder"
   ]
  },
  {
   "cell_type": "code",
   "execution_count": 12,
   "id": "8b7f79c1-a700-42e0-a49b-42b1b423d7ee",
   "metadata": {},
   "outputs": [
    {
     "ename": "ModuleNotFoundError",
     "evalue": "No module named 'torch'",
     "output_type": "error",
     "traceback": [
      "\u001b[31m---------------------------------------------------------------------------\u001b[39m",
      "\u001b[31mModuleNotFoundError\u001b[39m                       Traceback (most recent call last)",
      "\u001b[36mCell\u001b[39m\u001b[36m \u001b[39m\u001b[32mIn[12]\u001b[39m\u001b[32m, line 1\u001b[39m\n\u001b[32m----> \u001b[39m\u001b[32m1\u001b[39m \u001b[38;5;28;01mimport\u001b[39;00m\u001b[38;5;250m \u001b[39m\u001b[34;01mtorch\u001b[39;00m\n\u001b[32m      2\u001b[39m \u001b[38;5;28;01mimport\u001b[39;00m\u001b[38;5;250m \u001b[39m\u001b[34;01mtorch\u001b[39;00m\u001b[34;01m.\u001b[39;00m\u001b[34;01mnn\u001b[39;00m\u001b[38;5;250m \u001b[39m\u001b[38;5;28;01mas\u001b[39;00m\u001b[38;5;250m \u001b[39m\u001b[34;01mnn\u001b[39;00m\n\u001b[32m      3\u001b[39m \u001b[38;5;28;01mimport\u001b[39;00m\u001b[38;5;250m \u001b[39m\u001b[34;01mtorch\u001b[39;00m\u001b[34;01m.\u001b[39;00m\u001b[34;01moptim\u001b[39;00m\u001b[38;5;250m \u001b[39m\u001b[38;5;28;01mas\u001b[39;00m\u001b[38;5;250m \u001b[39m\u001b[34;01moptim\u001b[39;00m\n",
      "\u001b[31mModuleNotFoundError\u001b[39m: No module named 'torch'"
     ]
    }
   ],
   "source": [
    "class Autoencoder(nn.Module):\n",
    "    def __init__(self, input_dim):\n",
    "        super().__init__()\n",
    "        self.encoder = nn.Sequential(\n",
    "            nn.Linear(input_dim, 16),\n",
    "            nn.ReLU(),\n",
    "            nn.Linear(16, 8),\n",
    "            nn.ReLU(),\n",
    "            nn.Linear(8, 4)\n",
    "        )\n",
    "        self.decoder = nn.Sequential(\n",
    "            nn.Linear(4, 8),\n",
    "            nn.ReLU(),\n",
    "            nn.Linear(8, 16),\n",
    "            nn.ReLU(),\n",
    "            nn.Linear(16, input_dim),\n",
    "            nn.Sigmoid()\n",
    "        )\n",
    "    def forward(self, x):\n",
    "        encoded = self.encoder(x)\n",
    "        decoded = self.decoder(encoded)\n",
    "        return decoded\n",
    "\n",
    "def train_autoencoder(X_train, epochs=50, batch_size=32, lr=0.001):\n",
    "    input_dim = X_train.shape[1]\n",
    "    device = torch.device('cuda' if torch.cuda.is_available() else 'cpu')\n",
    "    model = Autoencoder(input_dim).to(device)\n",
    "    criterion = nn.MSELoss()\n",
    "    optimizer = optim.Adam(model.parameters(), lr=lr)\n",
    "\n",
    "    X_tensor = torch.FloatTensor(X_train).to(device)\n",
    "    dataset = torch.utils.data.TensorDataset(X_tensor, X_tensor)\n",
    "    loader = torch.utils.data.DataLoader(dataset, batch_size=batch_size, shuffle=True)\n",
    "\n",
    "    model.train()\n",
    "    for epoch in range(epochs):\n",
    "        epoch_loss = 0\n",
    "        for batch_x, _ in loader:\n",
    "            optimizer.zero_grad()\n",
    "            outputs = model(batch_x)\n",
    "            loss = criterion(outputs, batch_x)\n",
    "            loss.backward()\n",
    "            optimizer.step()\n",
    "            epoch_loss += loss.item()\n",
    "        if (epoch+1) % 10 == 0 or epoch == 0:\n",
    "            print(f\"Epoch {epoch+1}/{epochs}, Loss: {epoch_loss/len(loader):.6f}\")\n",
    "    return model\n",
    "\n",
    "def autoencoder_predict(model, X_test, threshold=0.05):\n",
    "    device = torch.device('cuda' if torch.cuda.is_available() else 'cpu')\n",
    "    test_tensor = torch.FloatTensor(X_test).to(device)\n",
    "    model.eval()\n",
    "    with torch.no_grad():\n",
    "        reconstructions = model(test_tensor)\n",
    "        mse = torch.mean((test_tensor - reconstructions) ** 2, dim=1)\n",
    "    return np.where(mse.cpu().numpy() < threshold, 1, -1)\n"
   ]
  },
  {
   "cell_type": "markdown",
   "id": "13fd050a-e070-4def-ac7f-a99ec79d8e0f",
   "metadata": {},
   "source": [
    "## Evaluation Functions"
   ]
  },
  {
   "cell_type": "code",
   "execution_count": 24,
   "id": "43f0cb05-4815-458d-bd85-3905acc20ccc",
   "metadata": {},
   "outputs": [
    {
     "data": {
      "text/plain": [
       "((506527, 46), (506527,))"
      ]
     },
     "execution_count": 24,
     "metadata": {},
     "output_type": "execute_result"
    }
   ],
   "source": [
    "def generate_classification_report_iso(model, X_test, y_test):\n",
    "    if not all(x in [-1, 1] for x in y_test):\n",
    "        y_test_mapped = y_test.copy()\n",
    "        y_test_mapped[y_test == 0] = 1\n",
    "        y_test_mapped[y_test == 1] = -1\n",
    "    else:\n",
    "        y_test_mapped = y_test\n",
    "    print(\"\\n[Isolation Forest] Model Evaluation Started ...\")\n",
    "    start_t = time.time()\n",
    "    y_pred = model.predict(X_test)\n",
    "    end_t = time.time()\n",
    "    print(classification_report(y_test_mapped, y_pred, labels=[1, -1]))\n",
    "    print(f\"Time taken for prediction: {end_t - start_t:.6f} seconds\")\n",
    "\n",
    "def generate_classification_report_ocsvm(model, X_test, y_test):\n",
    "    if not all(x in [-1, 1] for x in y_test):\n",
    "        y_test_mapped = y_test.copy()\n",
    "        y_test_mapped[y_test == 0] = -1\n",
    "        y_test_mapped[y_test == 1] = 1\n",
    "    else:\n",
    "        y_test_mapped = y_test\n",
    "    print(\"\\n[One-Class SVM] Model Evaluation Started ...\")\n",
    "    start_t = time.time()\n",
    "    y_pred = model.predict(X_test)\n",
    "    end_t = time.time()\n",
    "    print(classification_report(y_test_mapped, y_pred, labels=[1, -1]))\n",
    "    print(f\"Time taken for prediction: {end_t - start_t:.6f} seconds\")\n",
    "\n",
    "def generate_classification_report_autoencoder(model, X_test, y_test, threshold=0.05):\n",
    "    if not all(x in [-1, 1] for x in y_test):\n",
    "        y_test_mapped = y_test.copy()\n",
    "        y_test_mapped[y_test == 0] = -1\n",
    "        y_test_mapped[y_test == 1] = 1\n",
    "    else:\n",
    "        y_test_mapped = y_test\n",
    "    print(\"\\n[Autoencoder] Model Evaluation Started ...\")\n",
    "    start_t = time.time()\n",
    "    y_pred = autoencoder_predict(model, X_test, threshold)\n",
    "    end_t = time.time()\n",
    "    print(classification_report(y_test_mapped, y_pred, labels=[1, -1]))\n",
    "    print(f\"Time taken for prediction: {end_t - start_t:.6f} seconds\")\n"
   ]
  },
  {
   "cell_type": "code",
   "execution_count": 25,
   "id": "4f8227f7-2635-4ee3-bad3-a7e8a75ee6db",
   "metadata": {},
   "outputs": [
    {
     "data": {
      "text/plain": [
       "0\n",
       "0    494289\n",
       "1     12238\n",
       "Name: count, dtype: int64"
      ]
     },
     "execution_count": 25,
     "metadata": {},
     "output_type": "execute_result"
    }
   ],
   "source": [
    "# pd.DataFrame(y_train).value_counts()"
   ]
  },
  {
   "cell_type": "code",
   "execution_count": 26,
   "id": "9e4ac53f-49f9-4b6e-a069-d2a23971de16",
   "metadata": {},
   "outputs": [
    {
     "data": {
      "text/plain": [
       "0\n",
       "0    494289\n",
       "1     12238\n",
       "Name: count, dtype: int64"
      ]
     },
     "execution_count": 26,
     "metadata": {},
     "output_type": "execute_result"
    }
   ],
   "source": [
    "# pd.DataFrame(y_test).value_counts()"
   ]
  },
  {
   "cell_type": "code",
   "execution_count": 28,
   "id": "03755113-e995-49a1-a03e-9509142e6617",
   "metadata": {},
   "outputs": [],
   "source": [
    "# Isolation Forest\n",
    "iso_100 = isolationForest_100(X_train)\n",
    "iso_50 = isolationForest_50(X_train)\n",
    "generate_classification_report_iso(iso_100, X_test, y_test)\n",
    "generate_classification_report_iso(iso_50, X_test, y_test)\n",
    "\n",
    "# One-Class SVM (train only on normal data, label == 1)\n",
    "X_train_normal = X_train_pca[y_train == 1]\n",
    "oc_svm_rbf = oneClassSvm_rbf(X_train_normal)\n",
    "oc_svm_linear = oneClassSvm_linear(X_train_normal)\n",
    "generate_classification_report_ocsvm(oc_svm_rbf, X_test_pca, y_test)\n",
    "generate_classification_report_ocsvm(oc_svm_linear, X_test_pca, y_test)\n",
    "\n",
    "# Autoencoder (train only on normal data)\n",
    "autoencoder_model = train_autoencoder(X_train_normal)\n",
    "generate_classification_report_autoencoder(autoencoder_model, X_test_pca, y_test, threshold=0.05)\n"
   ]
  },
  {
   "cell_type": "code",
   "execution_count": 38,
   "id": "c14a86f1-869a-4354-9c38-e03b19a3905f",
   "metadata": {},
   "outputs": [],
   "source": [
    "def generate_classification_report_ocsvm(model, X_test, y_test):\n",
    "    if not all(x in [-1, 1] for x in y_test):\n",
    "        print(\"y_test should contain 1 for normal and -1 for anomalies. Converting you y_test......\")\n",
    "        y_test_mapped = y_test.copy()\n",
    "        y_test_mapped[y_test == 0] = -1\n",
    "        y_test_mapped[y_test == 1] = 1\n",
    "        print(\"y_test mapped successfully !!!\")\n",
    "\n",
    "    global sc\n",
    "    global pca\n",
    "\n",
    "    X_test_pro=sc.transform(X_test)\n",
    "    X_test_pro=pca.transform(X_test_pro)\n",
    "    print()\n",
    "    print(\"Model Evaluation Started ......\")\n",
    "    start_t=time.time()\n",
    "    y_pred = model.predict(X_test_pro)\n",
    "    end_t=time.time()\n",
    "    report = classification_report(y_test_mapped, y_pred, labels=[1, -1])\n",
    "    print(report)\n",
    "    print(f\"Time taken for model to predict is {end_t-start_t : .6f}\")"
   ]
  },
  {
   "cell_type": "code",
   "execution_count": 30,
   "id": "2da7114e-3669-4bcb-ba5d-7701e59af49f",
   "metadata": {},
   "outputs": [
    {
     "name": "stderr",
     "output_type": "stream",
     "text": [
      "[Parallel(n_jobs=24)]: Using backend ThreadingBackend with 24 concurrent workers.\n",
      "[Parallel(n_jobs=24)]: Done   2 out of  24 | elapsed:    0.2s remaining:    3.3s\n",
      "[Parallel(n_jobs=24)]: Done  24 out of  24 | elapsed:    0.3s finished\n"
     ]
    }
   ],
   "source": [
    "iso_100=isolationForest_100(X_train)"
   ]
  },
  {
   "cell_type": "code",
   "execution_count": 31,
   "id": "0c399d5b-0ab9-4a24-b216-8043ead78fd9",
   "metadata": {},
   "outputs": [
    {
     "name": "stderr",
     "output_type": "stream",
     "text": [
      "[Parallel(n_jobs=24)]: Using backend ThreadingBackend with 24 concurrent workers.\n",
      "[Parallel(n_jobs=24)]: Done   2 out of  24 | elapsed:    0.2s remaining:    3.2s\n",
      "[Parallel(n_jobs=24)]: Done  24 out of  24 | elapsed:    0.3s finished\n"
     ]
    }
   ],
   "source": [
    "iso_50=isolationForest_100(X_train)"
   ]
  },
  {
   "cell_type": "code",
   "execution_count": 32,
   "id": "69f46a31-a6a6-4cf2-8a1d-67b6bd3abf1c",
   "metadata": {},
   "outputs": [
    {
     "name": "stdout",
     "output_type": "stream",
     "text": [
      "y_test should contain -1 for normal and 1 for anomalies. Converting you y_test......\n",
      "y_test mapped successfully !!!\n",
      "\n",
      "Model Evaluation Started ......\n",
      "              precision    recall  f1-score   support\n",
      "\n",
      "           1       0.99      0.99      0.99    494289\n",
      "          -1       0.78      0.78      0.78     12238\n",
      "\n",
      "    accuracy                           0.99    506527\n",
      "   macro avg       0.89      0.89      0.89    506527\n",
      "weighted avg       0.99      0.99      0.99    506527\n",
      "\n",
      "Time taken for model to predict is  1.902547\n"
     ]
    }
   ],
   "source": [
    "generate_classification_report_iso(iso_100, X_test, y_test)"
   ]
  },
  {
   "cell_type": "code",
   "execution_count": 34,
   "id": "dd895db5-bc92-49c9-8caf-e1a4a2278994",
   "metadata": {},
   "outputs": [
    {
     "name": "stdout",
     "output_type": "stream",
     "text": [
      "y_test should contain -1 for normal and 1 for anomalies. Converting you y_test......\n",
      "y_test mapped successfully !!!\n",
      "\n",
      "Model Evaluation Started ......\n",
      "              precision    recall  f1-score   support\n",
      "\n",
      "           1       0.99      0.99      0.99    494289\n",
      "          -1       0.78      0.78      0.78     12238\n",
      "\n",
      "    accuracy                           0.99    506527\n",
      "   macro avg       0.89      0.89      0.89    506527\n",
      "weighted avg       0.99      0.99      0.99    506527\n",
      "\n",
      "Time taken for model to predict is  1.924689\n"
     ]
    }
   ],
   "source": [
    "generate_classification_report_iso(iso_50, X_test, y_test)"
   ]
  },
  {
   "cell_type": "code",
   "execution_count": 35,
   "id": "d1944f78-2aa3-4253-93ba-9b677cefd3f4",
   "metadata": {},
   "outputs": [],
   "source": [
    "array1 = X_train[y_train == 1]\n",
    "array2 = X_test[y_test == 1]\n",
    "X_train_normal = np.concatenate((array1, array2), axis=0)"
   ]
  },
  {
   "cell_type": "code",
   "execution_count": 36,
   "id": "fa571f07-d758-4b2b-9e97-3330e171e965",
   "metadata": {},
   "outputs": [
    {
     "data": {
      "text/plain": [
       "(24476, 46)"
      ]
     },
     "execution_count": 36,
     "metadata": {},
     "output_type": "execute_result"
    }
   ],
   "source": [
    "X_train_normal.shape"
   ]
  },
  {
   "cell_type": "code",
   "execution_count": 37,
   "id": "5714f4ce-f94c-4e5e-9b03-b12c3344662a",
   "metadata": {},
   "outputs": [
    {
     "name": "stdout",
     "output_type": "stream",
     "text": [
      "dimn changed from (24476, 46) to (24476, 19)\n"
     ]
    }
   ],
   "source": [
    "oc_svm_rbf=oneClassSvm_rbf(X_train_normal,class_weights=None)"
   ]
  },
  {
   "cell_type": "code",
   "execution_count": 32,
   "id": "e9db000d-2e2a-49ba-ab11-6bccecba893b",
   "metadata": {},
   "outputs": [],
   "source": [
    "oc_svm_linear=oneClassSvm_rbf(X_train_normal,class_weights=None)"
   ]
  },
  {
   "cell_type": "code",
   "execution_count": 39,
   "id": "60fcbbd0-7afb-477f-aac6-18cb50276791",
   "metadata": {},
   "outputs": [
    {
     "name": "stdout",
     "output_type": "stream",
     "text": [
      "y_test should contain 1 for normal and -1 for anomalies. Converting you y_test......\n",
      "y_test mapped successfully !!!\n",
      "\n",
      "Model Evaluation Started ......\n",
      "              precision    recall  f1-score   support\n",
      "\n",
      "           1       0.88      0.50      0.64     12238\n",
      "          -1       0.99      1.00      0.99    494289\n",
      "\n",
      "    accuracy                           0.99    506527\n",
      "   macro avg       0.93      0.75      0.82    506527\n",
      "weighted avg       0.99      0.99      0.98    506527\n",
      "\n",
      "Time taken for model to predict is  634.561906\n"
     ]
    }
   ],
   "source": [
    "generate_classification_report_ocsvm(oc_svm_rbf, X_test, y_test)"
   ]
  },
  {
   "cell_type": "code",
   "execution_count": null,
   "id": "0cce54df-30f8-4396-9727-c2eb94aa8a56",
   "metadata": {},
   "outputs": [
    {
     "name": "stdout",
     "output_type": "stream",
     "text": [
      "y_test should contain 1 for normal and -1 for anomalies. Converting you y_test......\n",
      "y_test mapped successfully !!!\n",
      "\n",
      "Model Training Started ......\n"
     ]
    }
   ],
   "source": [
    "generate_classification_report_ocsvm(oc_svm_linear, X_test, y_test)"
   ]
  }
 ],
 "metadata": {
  "kernelspec": {
   "display_name": "Python 3 (ipykernel)",
   "language": "python",
   "name": "python3"
  },
  "language_info": {
   "codemirror_mode": {
    "name": "ipython",
    "version": 3
   },
   "file_extension": ".py",
   "mimetype": "text/x-python",
   "name": "python",
   "nbconvert_exporter": "python",
   "pygments_lexer": "ipython3",
   "version": "3.11.3"
  }
 },
 "nbformat": 4,
 "nbformat_minor": 5
}
